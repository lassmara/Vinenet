{
 "cells": [
  {
   "cell_type": "code",
   "execution_count": 2,
   "metadata": {},
   "outputs": [],
   "source": [
    "import os\n",
    "import numpy as np\n",
    "import cv2\n",
    "from glob import glob\n",
    "from tqdm import tqdm\n",
    "from sklearn.metrics import accuracy_score, f1_score, jaccard_score, precision_score, recall_score"
   ]
  },
  {
   "cell_type": "code",
   "execution_count": 3,
   "metadata": {},
   "outputs": [],
   "source": [
    "# pred_mask = sorted(os.path.join(\"prediction\", \"non aug\", \"*\"))\n",
    "pred_mask = sorted(glob(os.path.join(\"prediction\", \"levelthree\", \"*\")))\n",
    "true_mask = sorted(glob(os.path.join(\"My_VineNet\", \"non aug\", \"test\", \"masks\", \"*\")))"
   ]
  },
  {
   "cell_type": "code",
   "execution_count": 4,
   "metadata": {},
   "outputs": [
    {
     "name": "stdout",
     "output_type": "stream",
     "text": [
      "['My_VineNet\\\\non aug\\\\test\\\\masks\\\\Block_5E1_Row_1_Middle_2247_instanceIds.png', 'My_VineNet\\\\non aug\\\\test\\\\masks\\\\Block_5E1_Row_1_Middle_2263_instanceIds.png', 'My_VineNet\\\\non aug\\\\test\\\\masks\\\\Block_5E1_Row_1_Middle_2271_instanceIds.png', 'My_VineNet\\\\non aug\\\\test\\\\masks\\\\Block_5E1_Row_1_Middle_2279_instanceIds.png', 'My_VineNet\\\\non aug\\\\test\\\\masks\\\\Block_5E1_Row_1_Middle_2287_instanceIds.png', 'My_VineNet\\\\non aug\\\\test\\\\masks\\\\Block_5E1_Row_1_Middle_2295_instanceIds.png', 'My_VineNet\\\\non aug\\\\test\\\\masks\\\\Block_5E1_Row_1_Middle_2319_instanceIds.png', 'My_VineNet\\\\non aug\\\\test\\\\masks\\\\Block_5E1_Row_1_Middle_2335_instanceIds.png', 'My_VineNet\\\\non aug\\\\test\\\\masks\\\\Block_5E1_Row_1_Middle_2343_instanceIds.png', 'My_VineNet\\\\non aug\\\\test\\\\masks\\\\Block_5E1_Row_1_Middle_2367_instanceIds.png', 'My_VineNet\\\\non aug\\\\test\\\\masks\\\\Block_5E1_Row_1_Middle_2415_instanceIds.png', 'My_VineNet\\\\non aug\\\\test\\\\masks\\\\Block_5E1_Row_1_Middle_2478_instanceIds.png', 'My_VineNet\\\\non aug\\\\test\\\\masks\\\\Block_5E1_Row_1_Middle_2485_instanceIds.png', 'My_VineNet\\\\non aug\\\\test\\\\masks\\\\Block_5E1_Row_1_Middle_2492_instanceIds.png', 'My_VineNet\\\\non aug\\\\test\\\\masks\\\\Block_5E1_Row_1_Middle_2506_instanceIds.png', 'My_VineNet\\\\non aug\\\\test\\\\masks\\\\Block_5E1_Row_1_Middle_2513_instanceIds.png', 'My_VineNet\\\\non aug\\\\test\\\\masks\\\\Block_5E1_Row_1_Middle_2520_instanceIds.png', 'My_VineNet\\\\non aug\\\\test\\\\masks\\\\Block_5E1_Row_1_Middle_2534_instanceIds.png', 'My_VineNet\\\\non aug\\\\test\\\\masks\\\\Block_5E1_Row_1_Middle_2541_instanceIds.png', 'My_VineNet\\\\non aug\\\\test\\\\masks\\\\Block_5E1_Row_1_Middle_2548_instanceIds.png', 'My_VineNet\\\\non aug\\\\test\\\\masks\\\\Block_5E1_Row_1_Middle_2555_instanceIds.png', 'My_VineNet\\\\non aug\\\\test\\\\masks\\\\Block_5E1_Row_1_Middle_2569_instanceIds.png', 'My_VineNet\\\\non aug\\\\test\\\\masks\\\\Block_5E1_Row_1_Middle_2576_instanceIds.png', 'My_VineNet\\\\non aug\\\\test\\\\masks\\\\Block_5E1_Row_1_Middle_2597_instanceIds.png', 'My_VineNet\\\\non aug\\\\test\\\\masks\\\\Block_5E1_Row_1_Middle_2611_instanceIds.png', 'My_VineNet\\\\non aug\\\\test\\\\masks\\\\Block_5E1_Row_1_Middle_2618_instanceIds.png', 'My_VineNet\\\\non aug\\\\test\\\\masks\\\\Block_5E1_Row_1_Middle_2625_instanceIds.png', 'My_VineNet\\\\non aug\\\\test\\\\masks\\\\Block_5E1_Row_1_Middle_2632_instanceIds.png', 'My_VineNet\\\\non aug\\\\test\\\\masks\\\\Block_5E1_Row_1_Middle_2639_instanceIds.png', 'My_VineNet\\\\non aug\\\\test\\\\masks\\\\Block_5E1_Row_1_Middle_2758_instanceIds.png', 'My_VineNet\\\\non aug\\\\test\\\\masks\\\\Block_5E1_Row_1_Middle_2765_instanceIds.png', 'My_VineNet\\\\non aug\\\\test\\\\masks\\\\Block_5E1_Row_1_Middle_2772_instanceIds.png', 'My_VineNet\\\\non aug\\\\test\\\\masks\\\\Block_5E1_Row_1_Middle_2800_instanceIds.png', 'My_VineNet\\\\non aug\\\\test\\\\masks\\\\Block_5E1_Row_1_Middle_2807_instanceIds.png', 'My_VineNet\\\\non aug\\\\test\\\\masks\\\\Block_5E1_Row_1_Middle_2814_instanceIds.png', 'My_VineNet\\\\non aug\\\\test\\\\masks\\\\Block_5E1_Row_1_Middle_2821_instanceIds.png', 'My_VineNet\\\\non aug\\\\test\\\\masks\\\\Block_5E1_Row_1_Middle_2835_instanceIds.png', 'My_VineNet\\\\non aug\\\\test\\\\masks\\\\Block_5E1_Row_1_Middle_2842_instanceIds.png', 'My_VineNet\\\\non aug\\\\test\\\\masks\\\\Block_5E1_Row_1_Middle_2849_instanceIds.png', 'My_VineNet\\\\non aug\\\\test\\\\masks\\\\Block_5E1_Row_1_Middle_2856_instanceIds.png', 'My_VineNet\\\\non aug\\\\test\\\\masks\\\\Block_5E1_Row_1_Middle_2870_instanceIds.png', 'My_VineNet\\\\non aug\\\\test\\\\masks\\\\Block_5E1_Row_1_Middle_2877_instanceIds.png', 'My_VineNet\\\\non aug\\\\test\\\\masks\\\\Block_5E1_Row_1_Middle_2884_instanceIds.png', 'My_VineNet\\\\non aug\\\\test\\\\masks\\\\Block_5E1_Row_1_Middle_2891_instanceIds.png', 'My_VineNet\\\\non aug\\\\test\\\\masks\\\\Block_5E1_Row_1_Middle_2898_instanceIds.png', 'My_VineNet\\\\non aug\\\\test\\\\masks\\\\Block_5E1_Row_1_Middle_2905_instanceIds.png', 'My_VineNet\\\\non aug\\\\test\\\\masks\\\\Block_5E1_Row_1_Middle_2926_instanceIds.png', 'My_VineNet\\\\non aug\\\\test\\\\masks\\\\Block_5E1_Row_1_Middle_2933_instanceIds.png', 'My_VineNet\\\\non aug\\\\test\\\\masks\\\\Block_5E1_Row_1_Middle_2940_instanceIds.png', 'My_VineNet\\\\non aug\\\\test\\\\masks\\\\Block_5E1_Row_1_Middle_2954_instanceIds.png', 'My_VineNet\\\\non aug\\\\test\\\\masks\\\\Block_5E1_Row_1_Middle_2968_instanceIds.png', 'My_VineNet\\\\non aug\\\\test\\\\masks\\\\Block_5E1_Row_1_Middle_2982_instanceIds.png', 'My_VineNet\\\\non aug\\\\test\\\\masks\\\\Block_5E1_Row_1_Middle_2989_instanceIds.png', 'My_VineNet\\\\non aug\\\\test\\\\masks\\\\Block_5E1_Row_1_Middle_2996_instanceIds.png', 'My_VineNet\\\\non aug\\\\test\\\\masks\\\\Block_5E1_Row_1_Middle_3038_instanceIds.png', 'My_VineNet\\\\non aug\\\\test\\\\masks\\\\Block_5E1_Row_1_Middle_3045_instanceIds.png', 'My_VineNet\\\\non aug\\\\test\\\\masks\\\\Block_5E1_Row_1_Middle_3066_instanceIds.png', 'My_VineNet\\\\non aug\\\\test\\\\masks\\\\Block_5E1_Row_1_Middle_3087_instanceIds.png', 'My_VineNet\\\\non aug\\\\test\\\\masks\\\\Block_5E1_Row_1_Middle_3108_instanceIds.png', 'My_VineNet\\\\non aug\\\\test\\\\masks\\\\Block_5E1_Row_1_Middle_3122_instanceIds.png', 'My_VineNet\\\\non aug\\\\test\\\\masks\\\\Block_5E1_Row_1_Middle_3136_instanceIds.png', 'My_VineNet\\\\non aug\\\\test\\\\masks\\\\Block_5E1_Row_1_Middle_3143_instanceIds.png', 'My_VineNet\\\\non aug\\\\test\\\\masks\\\\Block_5E1_Row_1_Middle_3150_instanceIds.png', 'My_VineNet\\\\non aug\\\\test\\\\masks\\\\Block_5E1_Row_1_Middle_3157_instanceIds.png', 'My_VineNet\\\\non aug\\\\test\\\\masks\\\\Block_5E1_Row_1_Middle_3164_instanceIds.png', 'My_VineNet\\\\non aug\\\\test\\\\masks\\\\Block_5E1_Row_1_Middle_3220_instanceIds.png', 'My_VineNet\\\\non aug\\\\test\\\\masks\\\\Block_5E1_Row_1_Middle_3227_instanceIds.png', 'My_VineNet\\\\non aug\\\\test\\\\masks\\\\Block_5E1_Row_1_Middle_3234_instanceIds.png', 'My_VineNet\\\\non aug\\\\test\\\\masks\\\\Block_5E1_Row_1_Middle_3241_instanceIds.png', 'My_VineNet\\\\non aug\\\\test\\\\masks\\\\Block_5E1_Row_1_Middle_3248_instanceIds.png', 'My_VineNet\\\\non aug\\\\test\\\\masks\\\\Block_5E1_Row_1_Middle_3255_instanceIds.png', 'My_VineNet\\\\non aug\\\\test\\\\masks\\\\Block_5E1_Row_1_Middle_3269_instanceIds.png', 'My_VineNet\\\\non aug\\\\test\\\\masks\\\\Block_5E1_Row_1_Middle_3283_instanceIds.png', 'My_VineNet\\\\non aug\\\\test\\\\masks\\\\Block_5E1_Row_1_Middle_3304_instanceIds.png', 'My_VineNet\\\\non aug\\\\test\\\\masks\\\\Block_5E1_Row_1_Middle_3311_instanceIds.png', 'My_VineNet\\\\non aug\\\\test\\\\masks\\\\Block_5E1_Row_1_Middle_3318_instanceIds.png', 'My_VineNet\\\\non aug\\\\test\\\\masks\\\\Block_5E1_Row_1_Middle_3325_instanceIds.png', 'My_VineNet\\\\non aug\\\\test\\\\masks\\\\Block_5E1_Row_1_Middle_3346_instanceIds.png', 'My_VineNet\\\\non aug\\\\test\\\\masks\\\\Block_5E1_Row_1_Middle_3353_instanceIds.png', 'My_VineNet\\\\non aug\\\\test\\\\masks\\\\Block_5E1_Row_1_Middle_3374_instanceIds.png', 'My_VineNet\\\\non aug\\\\test\\\\masks\\\\Block_5E1_Row_1_Middle_3381_instanceIds.png', 'My_VineNet\\\\non aug\\\\test\\\\masks\\\\Block_5E1_Row_1_Middle_3815_instanceIds.png', 'My_VineNet\\\\non aug\\\\test\\\\masks\\\\Block_5E1_Row_1_Middle_3823_instanceIds.png', 'My_VineNet\\\\non aug\\\\test\\\\masks\\\\Block_5E1_Row_1_Middle_3855_instanceIds.png', 'My_VineNet\\\\non aug\\\\test\\\\masks\\\\Block_5E1_Row_1_Middle_3879_instanceIds.png', 'My_VineNet\\\\non aug\\\\test\\\\masks\\\\Block_5E1_Row_1_Middle_3887_instanceIds.png', 'My_VineNet\\\\non aug\\\\test\\\\masks\\\\Block_5E1_Row_1_Middle_3919_instanceIds.png', 'My_VineNet\\\\non aug\\\\test\\\\masks\\\\Block_5E1_Row_1_Middle_3927_instanceIds.png', 'My_VineNet\\\\non aug\\\\test\\\\masks\\\\Block_5E1_Row_1_Middle_3935_instanceIds.png', 'My_VineNet\\\\non aug\\\\test\\\\masks\\\\Block_5E1_Row_1_Middle_3951_instanceIds.png', 'My_VineNet\\\\non aug\\\\test\\\\masks\\\\Block_5E1_Row_1_Middle_3967_instanceIds.png', 'My_VineNet\\\\non aug\\\\test\\\\masks\\\\Block_5E1_Row_1_Middle_3991_instanceIds.png', 'My_VineNet\\\\non aug\\\\test\\\\masks\\\\Block_5E1_Row_1_Middle_4023_instanceIds.png', 'My_VineNet\\\\non aug\\\\test\\\\masks\\\\Block_5E1_Row_1_Middle_4031_instanceIds.png', 'My_VineNet\\\\non aug\\\\test\\\\masks\\\\Block_5E1_Row_1_Middle_4055_instanceIds.png', 'My_VineNet\\\\non aug\\\\test\\\\masks\\\\Block_5E1_Row_1_Middle_4086_instanceIds.png', 'My_VineNet\\\\non aug\\\\test\\\\masks\\\\Block_5E1_Row_1_Middle_4093_instanceIds.png', 'My_VineNet\\\\non aug\\\\test\\\\masks\\\\Block_5E1_Row_1_Middle_4149_instanceIds.png', 'My_VineNet\\\\non aug\\\\test\\\\masks\\\\Block_5E1_Row_1_Middle_4156_instanceIds.png', 'My_VineNet\\\\non aug\\\\test\\\\masks\\\\Block_5E1_Row_1_Middle_4191_instanceIds.png']\n"
     ]
    }
   ],
   "source": [
    "print(true_mask)"
   ]
  },
  {
   "cell_type": "code",
   "execution_count": 5,
   "metadata": {},
   "outputs": [
    {
     "name": "stdout",
     "output_type": "stream",
     "text": [
      "prediction\\levelthree\\Block_5E1_Row_1_Middle_2247.png My_VineNet\\non aug\\test\\masks\\Block_5E1_Row_1_Middle_2247_instanceIds.png\n"
     ]
    }
   ],
   "source": [
    "print(pred_mask[0], true_mask[0])"
   ]
  },
  {
   "cell_type": "code",
   "execution_count": 6,
   "metadata": {},
   "outputs": [
    {
     "name": "stdout",
     "output_type": "stream",
     "text": [
      "100\n"
     ]
    }
   ],
   "source": [
    "print(len(pred_mask))"
   ]
  },
  {
   "cell_type": "code",
   "execution_count": 7,
   "metadata": {},
   "outputs": [
    {
     "name": "stderr",
     "output_type": "stream",
     "text": [
      "100%|██████████| 100/100 [05:32<00:00,  3.32s/it]\n"
     ]
    }
   ],
   "source": [
    "score = []\n",
    "\n",
    "for pred_y, true_y in tqdm(zip(pred_mask, true_mask), total=len(pred_mask)):\n",
    "    name = pred_y.split(\"\\\\\")[-1]\n",
    "\n",
    "    pred_y = cv2.imread(pred_y, cv2.IMREAD_GRAYSCALE)\n",
    "    pred_y = pred_y/128.0\n",
    "    pred_y = pred_y > 0.5\n",
    "    pred_y = pred_y.astype(np.int32)\n",
    "    pred_y = pred_y.flatten()\n",
    "\n",
    "    true_y = cv2.imread(true_y, cv2.IMREAD_GRAYSCALE)\n",
    "    true_y = true_y/128.0\n",
    "    true_y = true_y > 0.5\n",
    "    true_y = true_y.astype(np.int32)\n",
    "    true_y = true_y.flatten()\n",
    "\n",
    "    acc_value = accuracy_score(pred_y, true_y)\n",
    "    f1_value = f1_score(pred_y, true_y, labels=[0, 1], average=\"binary\")\n",
    "    jac_value = jaccard_score(pred_y, true_y, labels=[0, 1], average=\"binary\")\n",
    "    recall_value = recall_score(pred_y, true_y, labels=[0, 1], average=\"binary\")\n",
    "    precision_value = precision_score(pred_y, true_y, labels=[0, 1], average=\"binary\")\n",
    "\n",
    "    score.append([name, acc_value, f1_value, jac_value, recall_value, precision_value])\n"
   ]
  },
  {
   "cell_type": "code",
   "execution_count": 8,
   "metadata": {},
   "outputs": [],
   "source": [
    "score = [s[1:] for s in score]"
   ]
  },
  {
   "cell_type": "code",
   "execution_count": 9,
   "metadata": {},
   "outputs": [],
   "source": [
    "mean_score = np.mean(score, axis=0)"
   ]
  },
  {
   "cell_type": "code",
   "execution_count": 10,
   "metadata": {},
   "outputs": [
    {
     "name": "stdout",
     "output_type": "stream",
     "text": [
      "Accuracy: 0.99457\n",
      "F1: 0.77498\n",
      "Jaccard: 0.63918\n",
      "Recall: 0.93018\n",
      "Precision: 0.67334\n"
     ]
    }
   ],
   "source": [
    "print(f\"Accuracy: {mean_score[0]:0.5f}\")\n",
    "print(f\"F1: {mean_score[1]:0.5f}\")\n",
    "print(f\"Jaccard: {mean_score[2]:0.5f}\")\n",
    "print(f\"Recall: {mean_score[3]:0.5f}\")\n",
    "print(f\"Precision: {mean_score[4]:0.5f}\")"
   ]
  }
 ],
 "metadata": {
  "kernelspec": {
   "display_name": "py_torch",
   "language": "python",
   "name": "python3"
  },
  "language_info": {
   "codemirror_mode": {
    "name": "ipython",
    "version": 3
   },
   "file_extension": ".py",
   "mimetype": "text/x-python",
   "name": "python",
   "nbconvert_exporter": "python",
   "pygments_lexer": "ipython3",
   "version": "3.9.18"
  }
 },
 "nbformat": 4,
 "nbformat_minor": 2
}
