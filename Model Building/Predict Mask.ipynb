{
 "cells": [
  {
   "cell_type": "code",
   "execution_count": 16,
   "metadata": {},
   "outputs": [],
   "source": [
    "import os \n",
    "import time \n",
    "import numpy as np\n",
    "import cv2\n",
    "from glob import glob\n",
    "from tqdm import tqdm\n",
    "import tensorflow as tf"
   ]
  },
  {
   "cell_type": "code",
   "execution_count": 17,
   "metadata": {},
   "outputs": [],
   "source": [
    "os.environ[\"PYTHONHASHSEED\"] = str(42)\n",
    "np.random.seed(42)\n",
    "tf.random.set_seed(42)"
   ]
  },
  {
   "cell_type": "code",
   "execution_count": 18,
   "metadata": {},
   "outputs": [],
   "source": [
    "height = 960\n",
    "width = 1920"
   ]
  },
  {
   "cell_type": "code",
   "execution_count": 19,
   "metadata": {},
   "outputs": [],
   "source": [
    "dataset_path = os.path.join(\"My_VineNet\", \"non aug\", \"testing\")\n",
    "save_path = os.path.join(\"prediction\", \"final testing 3\")\n",
    "model_path = os.path.join(\"files\", \"aug level 3\", \"unet-aug.h5\")"
   ]
  },
  {
   "cell_type": "code",
   "execution_count": 20,
   "metadata": {},
   "outputs": [],
   "source": [
    "def create_dir(path):\n",
    "    if not os.path.exists(path):\n",
    "        os.makedirs(path)"
   ]
  },
  {
   "cell_type": "code",
   "execution_count": 21,
   "metadata": {},
   "outputs": [],
   "source": [
    "create_dir(save_path)"
   ]
  },
  {
   "cell_type": "code",
   "execution_count": null,
   "metadata": {},
   "outputs": [],
   "source": []
  },
  {
   "cell_type": "code",
   "execution_count": 22,
   "metadata": {},
   "outputs": [
    {
     "name": "stdout",
     "output_type": "stream",
     "text": [
      "Model: \"UNET\"\n",
      "__________________________________________________________________________________________________\n",
      " Layer (type)                   Output Shape         Param #     Connected to                     \n",
      "==================================================================================================\n",
      " input_1 (InputLayer)           [(None, 960, 1920,   0           []                               \n",
      "                                3)]                                                               \n",
      "                                                                                                  \n",
      " conv2d (Conv2D)                (None, 960, 1920, 6  1792        ['input_1[0][0]']                \n",
      "                                4)                                                                \n",
      "                                                                                                  \n",
      " batch_normalization (BatchNorm  (None, 960, 1920, 6  256        ['conv2d[0][0]']                 \n",
      " alization)                     4)                                                                \n",
      "                                                                                                  \n",
      " activation (Activation)        (None, 960, 1920, 6  0           ['batch_normalization[0][0]']    \n",
      "                                4)                                                                \n",
      "                                                                                                  \n",
      " conv2d_1 (Conv2D)              (None, 960, 1920, 6  36928       ['activation[0][0]']             \n",
      "                                4)                                                                \n",
      "                                                                                                  \n",
      " batch_normalization_1 (BatchNo  (None, 960, 1920, 6  256        ['conv2d_1[0][0]']               \n",
      " rmalization)                   4)                                                                \n",
      "                                                                                                  \n",
      " activation_1 (Activation)      (None, 960, 1920, 6  0           ['batch_normalization_1[0][0]']  \n",
      "                                4)                                                                \n",
      "                                                                                                  \n",
      " max_pooling2d (MaxPooling2D)   (None, 480, 960, 64  0           ['activation_1[0][0]']           \n",
      "                                )                                                                 \n",
      "                                                                                                  \n",
      " conv2d_2 (Conv2D)              (None, 480, 960, 12  73856       ['max_pooling2d[0][0]']          \n",
      "                                8)                                                                \n",
      "                                                                                                  \n",
      " batch_normalization_2 (BatchNo  (None, 480, 960, 12  512        ['conv2d_2[0][0]']               \n",
      " rmalization)                   8)                                                                \n",
      "                                                                                                  \n",
      " activation_2 (Activation)      (None, 480, 960, 12  0           ['batch_normalization_2[0][0]']  \n",
      "                                8)                                                                \n",
      "                                                                                                  \n",
      " conv2d_3 (Conv2D)              (None, 480, 960, 12  147584      ['activation_2[0][0]']           \n",
      "                                8)                                                                \n",
      "                                                                                                  \n",
      " batch_normalization_3 (BatchNo  (None, 480, 960, 12  512        ['conv2d_3[0][0]']               \n",
      " rmalization)                   8)                                                                \n",
      "                                                                                                  \n",
      " activation_3 (Activation)      (None, 480, 960, 12  0           ['batch_normalization_3[0][0]']  \n",
      "                                8)                                                                \n",
      "                                                                                                  \n",
      " max_pooling2d_1 (MaxPooling2D)  (None, 240, 480, 12  0          ['activation_3[0][0]']           \n",
      "                                8)                                                                \n",
      "                                                                                                  \n",
      " conv2d_4 (Conv2D)              (None, 240, 480, 25  295168      ['max_pooling2d_1[0][0]']        \n",
      "                                6)                                                                \n",
      "                                                                                                  \n",
      " batch_normalization_4 (BatchNo  (None, 240, 480, 25  1024       ['conv2d_4[0][0]']               \n",
      " rmalization)                   6)                                                                \n",
      "                                                                                                  \n",
      " activation_4 (Activation)      (None, 240, 480, 25  0           ['batch_normalization_4[0][0]']  \n",
      "                                6)                                                                \n",
      "                                                                                                  \n",
      " conv2d_5 (Conv2D)              (None, 240, 480, 25  590080      ['activation_4[0][0]']           \n",
      "                                6)                                                                \n",
      "                                                                                                  \n",
      " batch_normalization_5 (BatchNo  (None, 240, 480, 25  1024       ['conv2d_5[0][0]']               \n",
      " rmalization)                   6)                                                                \n",
      "                                                                                                  \n",
      " activation_5 (Activation)      (None, 240, 480, 25  0           ['batch_normalization_5[0][0]']  \n",
      "                                6)                                                                \n",
      "                                                                                                  \n",
      " max_pooling2d_2 (MaxPooling2D)  (None, 120, 240, 25  0          ['activation_5[0][0]']           \n",
      "                                6)                                                                \n",
      "                                                                                                  \n",
      " conv2d_6 (Conv2D)              (None, 120, 240, 51  1180160     ['max_pooling2d_2[0][0]']        \n",
      "                                2)                                                                \n",
      "                                                                                                  \n",
      " batch_normalization_6 (BatchNo  (None, 120, 240, 51  2048       ['conv2d_6[0][0]']               \n",
      " rmalization)                   2)                                                                \n",
      "                                                                                                  \n",
      " activation_6 (Activation)      (None, 120, 240, 51  0           ['batch_normalization_6[0][0]']  \n",
      "                                2)                                                                \n",
      "                                                                                                  \n",
      " conv2d_7 (Conv2D)              (None, 120, 240, 51  2359808     ['activation_6[0][0]']           \n",
      "                                2)                                                                \n",
      "                                                                                                  \n",
      " batch_normalization_7 (BatchNo  (None, 120, 240, 51  2048       ['conv2d_7[0][0]']               \n",
      " rmalization)                   2)                                                                \n",
      "                                                                                                  \n",
      " activation_7 (Activation)      (None, 120, 240, 51  0           ['batch_normalization_7[0][0]']  \n",
      "                                2)                                                                \n",
      "                                                                                                  \n",
      " max_pooling2d_3 (MaxPooling2D)  (None, 60, 120, 512  0          ['activation_7[0][0]']           \n",
      "                                )                                                                 \n",
      "                                                                                                  \n",
      " conv2d_8 (Conv2D)              (None, 60, 120, 102  4719616     ['max_pooling2d_3[0][0]']        \n",
      "                                4)                                                                \n",
      "                                                                                                  \n",
      " batch_normalization_8 (BatchNo  (None, 60, 120, 102  4096       ['conv2d_8[0][0]']               \n",
      " rmalization)                   4)                                                                \n",
      "                                                                                                  \n",
      " activation_8 (Activation)      (None, 60, 120, 102  0           ['batch_normalization_8[0][0]']  \n",
      "                                4)                                                                \n",
      "                                                                                                  \n",
      " conv2d_9 (Conv2D)              (None, 60, 120, 102  9438208     ['activation_8[0][0]']           \n",
      "                                4)                                                                \n",
      "                                                                                                  \n",
      " batch_normalization_9 (BatchNo  (None, 60, 120, 102  4096       ['conv2d_9[0][0]']               \n",
      " rmalization)                   4)                                                                \n",
      "                                                                                                  \n",
      " activation_9 (Activation)      (None, 60, 120, 102  0           ['batch_normalization_9[0][0]']  \n",
      "                                4)                                                                \n",
      "                                                                                                  \n",
      " conv2d_transpose (Conv2DTransp  (None, 120, 240, 51  2097664    ['activation_9[0][0]']           \n",
      " ose)                           2)                                                                \n",
      "                                                                                                  \n",
      " concatenate (Concatenate)      (None, 120, 240, 10  0           ['conv2d_transpose[0][0]',       \n",
      "                                24)                               'activation_7[0][0]']           \n",
      "                                                                                                  \n",
      " conv2d_10 (Conv2D)             (None, 120, 240, 51  4719104     ['concatenate[0][0]']            \n",
      "                                2)                                                                \n",
      "                                                                                                  \n",
      " batch_normalization_10 (BatchN  (None, 120, 240, 51  2048       ['conv2d_10[0][0]']              \n",
      " ormalization)                  2)                                                                \n",
      "                                                                                                  \n",
      " activation_10 (Activation)     (None, 120, 240, 51  0           ['batch_normalization_10[0][0]'] \n",
      "                                2)                                                                \n",
      "                                                                                                  \n",
      " conv2d_11 (Conv2D)             (None, 120, 240, 51  2359808     ['activation_10[0][0]']          \n",
      "                                2)                                                                \n",
      "                                                                                                  \n",
      " batch_normalization_11 (BatchN  (None, 120, 240, 51  2048       ['conv2d_11[0][0]']              \n",
      " ormalization)                  2)                                                                \n",
      "                                                                                                  \n",
      " activation_11 (Activation)     (None, 120, 240, 51  0           ['batch_normalization_11[0][0]'] \n",
      "                                2)                                                                \n",
      "                                                                                                  \n",
      " conv2d_transpose_1 (Conv2DTran  (None, 240, 480, 25  524544     ['activation_11[0][0]']          \n",
      " spose)                         6)                                                                \n",
      "                                                                                                  \n",
      " concatenate_1 (Concatenate)    (None, 240, 480, 51  0           ['conv2d_transpose_1[0][0]',     \n",
      "                                2)                                'activation_5[0][0]']           \n",
      "                                                                                                  \n",
      " conv2d_12 (Conv2D)             (None, 240, 480, 25  1179904     ['concatenate_1[0][0]']          \n",
      "                                6)                                                                \n",
      "                                                                                                  \n",
      " batch_normalization_12 (BatchN  (None, 240, 480, 25  1024       ['conv2d_12[0][0]']              \n",
      " ormalization)                  6)                                                                \n",
      "                                                                                                  \n",
      " activation_12 (Activation)     (None, 240, 480, 25  0           ['batch_normalization_12[0][0]'] \n",
      "                                6)                                                                \n",
      "                                                                                                  \n",
      " conv2d_13 (Conv2D)             (None, 240, 480, 25  590080      ['activation_12[0][0]']          \n",
      "                                6)                                                                \n",
      "                                                                                                  \n",
      " batch_normalization_13 (BatchN  (None, 240, 480, 25  1024       ['conv2d_13[0][0]']              \n",
      " ormalization)                  6)                                                                \n",
      "                                                                                                  \n",
      " activation_13 (Activation)     (None, 240, 480, 25  0           ['batch_normalization_13[0][0]'] \n",
      "                                6)                                                                \n",
      "                                                                                                  \n",
      " conv2d_transpose_2 (Conv2DTran  (None, 480, 960, 12  131200     ['activation_13[0][0]']          \n",
      " spose)                         8)                                                                \n",
      "                                                                                                  \n",
      " concatenate_2 (Concatenate)    (None, 480, 960, 25  0           ['conv2d_transpose_2[0][0]',     \n",
      "                                6)                                'activation_3[0][0]']           \n",
      "                                                                                                  \n",
      " conv2d_14 (Conv2D)             (None, 480, 960, 12  295040      ['concatenate_2[0][0]']          \n",
      "                                8)                                                                \n",
      "                                                                                                  \n",
      " batch_normalization_14 (BatchN  (None, 480, 960, 12  512        ['conv2d_14[0][0]']              \n",
      " ormalization)                  8)                                                                \n",
      "                                                                                                  \n",
      " activation_14 (Activation)     (None, 480, 960, 12  0           ['batch_normalization_14[0][0]'] \n",
      "                                8)                                                                \n",
      "                                                                                                  \n",
      " conv2d_15 (Conv2D)             (None, 480, 960, 12  147584      ['activation_14[0][0]']          \n",
      "                                8)                                                                \n",
      "                                                                                                  \n",
      " batch_normalization_15 (BatchN  (None, 480, 960, 12  512        ['conv2d_15[0][0]']              \n",
      " ormalization)                  8)                                                                \n",
      "                                                                                                  \n",
      " activation_15 (Activation)     (None, 480, 960, 12  0           ['batch_normalization_15[0][0]'] \n",
      "                                8)                                                                \n",
      "                                                                                                  \n",
      " conv2d_transpose_3 (Conv2DTran  (None, 960, 1920, 6  32832      ['activation_15[0][0]']          \n",
      " spose)                         4)                                                                \n",
      "                                                                                                  \n",
      " concatenate_3 (Concatenate)    (None, 960, 1920, 1  0           ['conv2d_transpose_3[0][0]',     \n",
      "                                28)                               'activation_1[0][0]']           \n",
      "                                                                                                  \n",
      " conv2d_16 (Conv2D)             (None, 960, 1920, 6  73792       ['concatenate_3[0][0]']          \n",
      "                                4)                                                                \n",
      "                                                                                                  \n",
      " batch_normalization_16 (BatchN  (None, 960, 1920, 6  256        ['conv2d_16[0][0]']              \n",
      " ormalization)                  4)                                                                \n",
      "                                                                                                  \n",
      " activation_16 (Activation)     (None, 960, 1920, 6  0           ['batch_normalization_16[0][0]'] \n",
      "                                4)                                                                \n",
      "                                                                                                  \n",
      " conv2d_17 (Conv2D)             (None, 960, 1920, 6  36928       ['activation_16[0][0]']          \n",
      "                                4)                                                                \n",
      "                                                                                                  \n",
      " batch_normalization_17 (BatchN  (None, 960, 1920, 6  256        ['conv2d_17[0][0]']              \n",
      " ormalization)                  4)                                                                \n",
      "                                                                                                  \n",
      " activation_17 (Activation)     (None, 960, 1920, 6  0           ['batch_normalization_17[0][0]'] \n",
      "                                4)                                                                \n",
      "                                                                                                  \n",
      " conv2d_18 (Conv2D)             (None, 960, 1920, 1  65          ['activation_17[0][0]']          \n",
      "                                )                                                                 \n",
      "                                                                                                  \n",
      "==================================================================================================\n",
      "Total params: 31,055,297\n",
      "Trainable params: 31,043,521\n",
      "Non-trainable params: 11,776\n",
      "__________________________________________________________________________________________________\n"
     ]
    }
   ],
   "source": [
    "model = tf.keras.models.load_model(model_path)\n",
    "model.summary()"
   ]
  },
  {
   "cell_type": "code",
   "execution_count": 23,
   "metadata": {},
   "outputs": [
    {
     "name": "stdout",
     "output_type": "stream",
     "text": [
      "Test Images: 179\n"
     ]
    }
   ],
   "source": [
    "test_x = sorted(glob(os.path.join(dataset_path, \"images\",\"*\")))\n",
    "test_y = sorted(glob(os.path.join(dataset_path, \"masks\", \"*\")))\n",
    "\n",
    "print(f\"Test Images: {int(len(test_x))}\")\n"
   ]
  },
  {
   "cell_type": "code",
   "execution_count": 24,
   "metadata": {},
   "outputs": [
    {
     "name": "stdout",
     "output_type": "stream",
     "text": [
      "\n",
      " My_VineNet\\non aug\\testing\\images\\Block_1C1_Row_1_Middle_1008.png\n",
      "\n",
      " My_VineNet\\non aug\\testing\\images\\Block_1C1_Row_1_Middle_1028.png\n",
      "\n",
      " My_VineNet\\non aug\\testing\\images\\Block_1C1_Row_1_Middle_1053.png\n",
      "\n",
      " My_VineNet\\non aug\\testing\\images\\Block_1C1_Row_1_Middle_1088.png\n",
      "\n",
      " My_VineNet\\non aug\\testing\\images\\Block_1C1_Row_1_Middle_1233.png\n",
      "\n",
      " My_VineNet\\non aug\\testing\\images\\Block_1C1_Row_1_Middle_1288.png\n",
      "\n",
      " My_VineNet\\non aug\\testing\\images\\Block_1C1_Row_1_Middle_1313.png\n",
      "\n",
      " My_VineNet\\non aug\\testing\\images\\Block_1C1_Row_1_Middle_1323.png\n",
      "\n",
      " My_VineNet\\non aug\\testing\\images\\Block_1C1_Row_1_Middle_1343.png\n",
      "\n",
      " My_VineNet\\non aug\\testing\\images\\Block_1C1_Row_1_Middle_1363.png\n",
      "\n",
      " My_VineNet\\non aug\\testing\\images\\Block_1C1_Row_1_Middle_1388.png\n",
      "\n",
      " My_VineNet\\non aug\\testing\\images\\Block_1C1_Row_1_Middle_1393.png\n",
      "\n",
      " My_VineNet\\non aug\\testing\\images\\Block_1C1_Row_1_Middle_1418.png\n",
      "\n",
      " My_VineNet\\non aug\\testing\\images\\Block_1C1_Row_1_Middle_1463.png\n",
      "\n",
      " My_VineNet\\non aug\\testing\\images\\Block_1C1_Row_1_Middle_1478.png\n",
      "\n",
      " My_VineNet\\non aug\\testing\\images\\Block_1C1_Row_1_Middle_1534.png\n",
      "\n",
      " My_VineNet\\non aug\\testing\\images\\Block_1C1_Row_1_Middle_1558.png\n",
      "\n",
      " My_VineNet\\non aug\\testing\\images\\Block_1C1_Row_1_Middle_1566.png\n",
      "\n",
      " My_VineNet\\non aug\\testing\\images\\Block_1C1_Row_1_Middle_1594.png\n",
      "\n",
      " My_VineNet\\non aug\\testing\\images\\Block_1C1_Row_1_Middle_1622.png\n",
      "\n",
      " My_VineNet\\non aug\\testing\\images\\Block_1C1_Row_1_Middle_1634.png\n",
      "\n",
      " My_VineNet\\non aug\\testing\\images\\Block_1C1_Row_1_Middle_1654.png\n",
      "\n",
      " My_VineNet\\non aug\\testing\\images\\Block_1C1_Row_1_Middle_1662.png\n",
      "\n",
      " My_VineNet\\non aug\\testing\\images\\Block_1C1_Row_1_Middle_1678.png\n",
      "\n",
      " My_VineNet\\non aug\\testing\\images\\Block_1C1_Row_1_Middle_1778.png\n",
      "\n",
      " My_VineNet\\non aug\\testing\\images\\Block_1C1_Row_1_Middle_1794.png\n",
      "\n",
      " My_VineNet\\non aug\\testing\\images\\Block_1C1_Row_1_Middle_1810.png\n",
      "\n",
      " My_VineNet\\non aug\\testing\\images\\Block_1C1_Row_1_Middle_1818.png\n",
      "\n",
      " My_VineNet\\non aug\\testing\\images\\Block_1C1_Row_1_Middle_1934.png\n",
      "\n",
      " My_VineNet\\non aug\\testing\\images\\Block_1C1_Row_1_Middle_1998.png\n",
      "\n",
      " My_VineNet\\non aug\\testing\\images\\Block_1C1_Row_1_Middle_2026.png\n",
      "\n",
      " My_VineNet\\non aug\\testing\\images\\Block_1C1_Row_1_Middle_2090.png\n",
      "\n",
      " My_VineNet\\non aug\\testing\\images\\Block_1C1_Row_1_Middle_2094.png\n",
      "\n",
      " My_VineNet\\non aug\\testing\\images\\Block_1C1_Row_1_Middle_2158.png\n",
      "\n",
      " My_VineNet\\non aug\\testing\\images\\Block_1C1_Row_1_Middle_2210.png\n",
      "\n",
      " My_VineNet\\non aug\\testing\\images\\Block_1C1_Row_1_Middle_2266.png\n",
      "\n",
      " My_VineNet\\non aug\\testing\\images\\Block_1C1_Row_1_Middle_2274.png\n",
      "\n",
      " My_VineNet\\non aug\\testing\\images\\Block_1C1_Row_1_Middle_2350.png\n",
      "\n",
      " My_VineNet\\non aug\\testing\\images\\Block_1C1_Row_1_Middle_2354.png\n",
      "\n",
      " My_VineNet\\non aug\\testing\\images\\Block_1C1_Row_1_Middle_2362.png\n",
      "\n",
      " My_VineNet\\non aug\\testing\\images\\Block_1C1_Row_1_Middle_2414.png\n",
      "\n",
      " My_VineNet\\non aug\\testing\\images\\Block_1C1_Row_1_Middle_2422.png\n",
      "\n",
      " My_VineNet\\non aug\\testing\\images\\Block_1C1_Row_1_Middle_2454.png\n",
      "\n",
      " My_VineNet\\non aug\\testing\\images\\Block_1C1_Row_1_Middle_2486.png\n",
      "\n",
      " My_VineNet\\non aug\\testing\\images\\Block_1C1_Row_1_Middle_2502.png\n",
      "\n",
      " My_VineNet\\non aug\\testing\\images\\Block_1C1_Row_1_Middle_2514.png\n",
      "\n",
      " My_VineNet\\non aug\\testing\\images\\Block_1C1_Row_1_Middle_2526.png\n",
      "\n",
      " My_VineNet\\non aug\\testing\\images\\Block_1C1_Row_1_Middle_2586.png\n",
      "\n",
      " My_VineNet\\non aug\\testing\\images\\Block_1C1_Row_1_Middle_2638.png\n",
      "\n",
      " My_VineNet\\non aug\\testing\\images\\Block_1C1_Row_1_Middle_2646.png\n",
      "\n",
      " My_VineNet\\non aug\\testing\\images\\Block_1C1_Row_1_Middle_728.png\n",
      "\n",
      " My_VineNet\\non aug\\testing\\images\\Block_1C1_Row_1_Middle_753.png\n",
      "\n",
      " My_VineNet\\non aug\\testing\\images\\Block_1C1_Row_1_Middle_768.png\n",
      "\n",
      " My_VineNet\\non aug\\testing\\images\\Block_1C1_Row_1_Middle_793.png\n",
      "\n",
      " My_VineNet\\non aug\\testing\\images\\Block_1C1_Row_1_Middle_828.png\n",
      "\n",
      " My_VineNet\\non aug\\testing\\images\\Block_1C1_Row_1_Middle_883.png\n",
      "\n",
      " My_VineNet\\non aug\\testing\\images\\Block_1C1_Row_1_Middle_898.png\n",
      "\n",
      " My_VineNet\\non aug\\testing\\images\\Block_1C1_Row_1_Middle_923.png\n",
      "\n",
      " My_VineNet\\non aug\\testing\\images\\Block_1C1_Row_1_Middle_953.png\n",
      "\n",
      " My_VineNet\\non aug\\testing\\images\\Block_1C1_Row_1_Middle_973.png\n",
      "\n",
      " My_VineNet\\non aug\\testing\\images\\Block_3_Row_1_Middle_1118.png\n",
      "\n",
      " My_VineNet\\non aug\\testing\\images\\Block_3_Row_1_Middle_1268.png\n",
      "\n",
      " My_VineNet\\non aug\\testing\\images\\Block_3_Row_1_Middle_1397.png\n",
      "\n",
      " My_VineNet\\non aug\\testing\\images\\Block_3_Row_1_Middle_1425.png\n",
      "\n",
      " My_VineNet\\non aug\\testing\\images\\Block_3_Row_1_Middle_1593.png\n",
      "\n",
      " My_VineNet\\non aug\\testing\\images\\Block_3_Row_1_Middle_1761.png\n",
      "\n",
      " My_VineNet\\non aug\\testing\\images\\Block_3_Row_1_Middle_1789.png\n",
      "\n",
      " My_VineNet\\non aug\\testing\\images\\Block_3_Row_1_Middle_1803.png\n",
      "\n",
      " My_VineNet\\non aug\\testing\\images\\Block_3_Row_1_Middle_1943.png\n",
      "\n",
      " My_VineNet\\non aug\\testing\\images\\Block_3_Row_1_Middle_2083.png\n",
      "\n",
      " My_VineNet\\non aug\\testing\\images\\Block_3_Row_1_Middle_2139.png\n",
      "\n",
      " My_VineNet\\non aug\\testing\\images\\Block_3_Row_1_Middle_2181.png\n",
      "\n",
      " My_VineNet\\non aug\\testing\\images\\Block_3_Row_1_Middle_2531.png\n",
      "\n",
      " My_VineNet\\non aug\\testing\\images\\Block_3_Row_1_Middle_2671.png\n",
      "\n",
      " My_VineNet\\non aug\\testing\\images\\Block_3_Row_1_Middle_2811.png\n",
      "\n",
      " My_VineNet\\non aug\\testing\\images\\Block_3_Row_1_Middle_2965.png\n",
      "\n",
      " My_VineNet\\non aug\\testing\\images\\Block_3_Row_1_Middle_3119.png\n",
      "\n",
      " My_VineNet\\non aug\\testing\\images\\Block_3_Row_1_Middle_338.png\n",
      "\n",
      " My_VineNet\\non aug\\testing\\images\\Block_3_Row_1_Middle_3698.png\n",
      "\n",
      " My_VineNet\\non aug\\testing\\images\\Block_3_Row_1_Middle_3728.png\n",
      "\n",
      " My_VineNet\\non aug\\testing\\images\\Block_3_Row_1_Middle_3743.png\n",
      "\n",
      " My_VineNet\\non aug\\testing\\images\\Block_3_Row_1_Middle_3833.png\n",
      "\n",
      " My_VineNet\\non aug\\testing\\images\\Block_3_Row_1_Middle_3848.png\n",
      "\n",
      " My_VineNet\\non aug\\testing\\images\\Block_3_Row_1_Middle_4193.png\n",
      "\n",
      " My_VineNet\\non aug\\testing\\images\\Block_3_Row_1_Middle_4268.png\n",
      "\n",
      " My_VineNet\\non aug\\testing\\images\\Block_3_Row_1_Middle_428.png\n",
      "\n",
      " My_VineNet\\non aug\\testing\\images\\Block_3_Row_1_Middle_443.png\n",
      "\n",
      " My_VineNet\\non aug\\testing\\images\\Block_3_Row_1_Middle_4478.png\n",
      "\n",
      " My_VineNet\\non aug\\testing\\images\\Block_3_Row_1_Middle_4508.png\n",
      "\n",
      " My_VineNet\\non aug\\testing\\images\\Block_3_Row_1_Middle_458.png\n",
      "\n",
      " My_VineNet\\non aug\\testing\\images\\Block_3_Row_1_Middle_4583.png\n",
      "\n",
      " My_VineNet\\non aug\\testing\\images\\Block_3_Row_1_Middle_4868.png\n",
      "\n",
      " My_VineNet\\non aug\\testing\\images\\Block_3_Row_1_Middle_503.png\n",
      "\n",
      " My_VineNet\\non aug\\testing\\images\\Block_3_Row_1_Middle_5078.png\n",
      "\n",
      " My_VineNet\\non aug\\testing\\images\\Block_3_Row_1_Middle_5191.png\n",
      "\n",
      " My_VineNet\\non aug\\testing\\images\\Block_3_Row_1_Middle_5247.png\n",
      "\n",
      " My_VineNet\\non aug\\testing\\images\\Block_3_Row_1_Middle_5261.png\n",
      "\n",
      " My_VineNet\\non aug\\testing\\images\\Block_3_Row_1_Middle_5275.png\n",
      "\n",
      " My_VineNet\\non aug\\testing\\images\\Block_3_Row_1_Middle_5303.png\n",
      "\n",
      " My_VineNet\\non aug\\testing\\images\\Block_3_Row_1_Middle_5317.png\n",
      "\n",
      " My_VineNet\\non aug\\testing\\images\\Block_3_Row_1_Middle_5541.png\n",
      "\n",
      " My_VineNet\\non aug\\testing\\images\\Block_3_Row_1_Middle_5555.png\n",
      "\n",
      " My_VineNet\\non aug\\testing\\images\\Block_3_Row_1_Middle_5653.png\n",
      "\n",
      " My_VineNet\\non aug\\testing\\images\\Block_3_Row_1_Middle_5947.png\n",
      "\n",
      " My_VineNet\\non aug\\testing\\images\\Block_3_Row_1_Middle_5989.png\n",
      "\n",
      " My_VineNet\\non aug\\testing\\images\\Block_3_Row_1_Middle_6059.png\n",
      "\n",
      " My_VineNet\\non aug\\testing\\images\\Block_3_Row_1_Middle_6115.png\n",
      "\n",
      " My_VineNet\\non aug\\testing\\images\\Block_3_Row_1_Middle_6325.png\n",
      "\n",
      " My_VineNet\\non aug\\testing\\images\\Block_3_Row_1_Middle_6367.png\n",
      "\n",
      " My_VineNet\\non aug\\testing\\images\\Block_3_Row_1_Middle_638.png\n",
      "\n",
      " My_VineNet\\non aug\\testing\\images\\Block_3_Row_1_Middle_6423.png\n",
      "\n",
      " My_VineNet\\non aug\\testing\\images\\Block_3_Row_1_Middle_6479.png\n",
      "\n",
      " My_VineNet\\non aug\\testing\\images\\Block_3_Row_1_Middle_6535.png\n",
      "\n",
      " My_VineNet\\non aug\\testing\\images\\Block_3_Row_1_Middle_668.png\n",
      "\n",
      " My_VineNet\\non aug\\testing\\images\\Block_3_Row_1_Middle_6871.png\n",
      "\n",
      " My_VineNet\\non aug\\testing\\images\\Block_3_Row_1_Middle_6955.png\n",
      "\n",
      " My_VineNet\\non aug\\testing\\images\\Block_3_Row_1_Middle_7039.png\n",
      "\n",
      " My_VineNet\\non aug\\testing\\images\\Block_3_Row_1_Middle_7123.png\n",
      "\n",
      " My_VineNet\\non aug\\testing\\images\\Block_3_Row_1_Middle_818.png\n",
      "\n",
      " My_VineNet\\non aug\\testing\\images\\Block_3_Row_1_Middle_923.png\n",
      "\n",
      " My_VineNet\\non aug\\testing\\images\\Block_5E1_Row_1_Middle_1103.png\n",
      "\n",
      " My_VineNet\\non aug\\testing\\images\\Block_5E1_Row_1_Middle_1215.png\n",
      "\n",
      " My_VineNet\\non aug\\testing\\images\\Block_5E1_Row_1_Middle_1311.png\n",
      "\n",
      " My_VineNet\\non aug\\testing\\images\\Block_5E1_Row_1_Middle_1335.png\n",
      "\n",
      " My_VineNet\\non aug\\testing\\images\\Block_5E1_Row_1_Middle_1359.png\n",
      "\n",
      " My_VineNet\\non aug\\testing\\images\\Block_5E1_Row_1_Middle_1479.png\n",
      "\n",
      " My_VineNet\\non aug\\testing\\images\\Block_5E1_Row_1_Middle_1519.png\n",
      "\n",
      " My_VineNet\\non aug\\testing\\images\\Block_5E1_Row_1_Middle_1575.png\n",
      "\n",
      " My_VineNet\\non aug\\testing\\images\\Block_5E1_Row_1_Middle_1631.png\n",
      "\n",
      " My_VineNet\\non aug\\testing\\images\\Block_5E1_Row_1_Middle_1679.png\n",
      "\n",
      " My_VineNet\\non aug\\testing\\images\\Block_5E1_Row_1_Middle_1743.png\n",
      "\n",
      " My_VineNet\\non aug\\testing\\images\\Block_5E1_Row_1_Middle_1759.png\n",
      "\n",
      " My_VineNet\\non aug\\testing\\images\\Block_5E1_Row_1_Middle_1767.png\n",
      "\n",
      " My_VineNet\\non aug\\testing\\images\\Block_5E1_Row_1_Middle_1791.png\n",
      "\n",
      " My_VineNet\\non aug\\testing\\images\\Block_5E1_Row_1_Middle_1807.png\n",
      "\n",
      " My_VineNet\\non aug\\testing\\images\\Block_5E1_Row_1_Middle_1951.png\n",
      "\n",
      " My_VineNet\\non aug\\testing\\images\\Block_5E1_Row_1_Middle_1967.png\n",
      "\n",
      " My_VineNet\\non aug\\testing\\images\\Block_5E1_Row_1_Middle_2007.png\n",
      "\n",
      " My_VineNet\\non aug\\testing\\images\\Block_5E1_Row_1_Middle_2015.png\n",
      "\n",
      " My_VineNet\\non aug\\testing\\images\\Block_5E1_Row_1_Middle_2047.png\n",
      "\n",
      " My_VineNet\\non aug\\testing\\images\\Block_5E1_Row_1_Middle_2111.png\n",
      "\n",
      " My_VineNet\\non aug\\testing\\images\\Block_5E1_Row_1_Middle_2119.png\n",
      "\n",
      " My_VineNet\\non aug\\testing\\images\\Block_5E1_Row_1_Middle_2143.png\n",
      "\n",
      " My_VineNet\\non aug\\testing\\images\\Block_5E1_Row_1_Middle_2159.png\n",
      "\n",
      " My_VineNet\\non aug\\testing\\images\\Block_5E1_Row_1_Middle_2207.png\n",
      "\n",
      " My_VineNet\\non aug\\testing\\images\\Block_5E1_Row_1_Middle_2255.png\n",
      "\n",
      " My_VineNet\\non aug\\testing\\images\\Block_5E1_Row_1_Middle_2327.png\n",
      "\n",
      " My_VineNet\\non aug\\testing\\images\\Block_5E1_Row_1_Middle_2351.png\n",
      "\n",
      " My_VineNet\\non aug\\testing\\images\\Block_5E1_Row_1_Middle_2375.png\n",
      "\n",
      " My_VineNet\\non aug\\testing\\images\\Block_5E1_Row_1_Middle_2407.png\n",
      "\n",
      " My_VineNet\\non aug\\testing\\images\\Block_5E1_Row_1_Middle_2499.png\n",
      "\n",
      " My_VineNet\\non aug\\testing\\images\\Block_5E1_Row_1_Middle_2527.png\n",
      "\n",
      " My_VineNet\\non aug\\testing\\images\\Block_5E1_Row_1_Middle_2562.png\n",
      "\n",
      " My_VineNet\\non aug\\testing\\images\\Block_5E1_Row_1_Middle_2604.png\n",
      "\n",
      " My_VineNet\\non aug\\testing\\images\\Block_5E1_Row_1_Middle_2646.png\n",
      "\n",
      " My_VineNet\\non aug\\testing\\images\\Block_5E1_Row_1_Middle_2744.png\n",
      "\n",
      " My_VineNet\\non aug\\testing\\images\\Block_5E1_Row_1_Middle_2793.png\n",
      "\n",
      " My_VineNet\\non aug\\testing\\images\\Block_5E1_Row_1_Middle_2863.png\n",
      "\n",
      " My_VineNet\\non aug\\testing\\images\\Block_5E1_Row_1_Middle_3073.png\n",
      "\n",
      " My_VineNet\\non aug\\testing\\images\\Block_5E1_Row_1_Middle_3171.png\n",
      "\n",
      " My_VineNet\\non aug\\testing\\images\\Block_5E1_Row_1_Middle_3178.png\n",
      "\n",
      " My_VineNet\\non aug\\testing\\images\\Block_5E1_Row_1_Middle_3206.png\n",
      "\n",
      " My_VineNet\\non aug\\testing\\images\\Block_5E1_Row_1_Middle_3262.png\n",
      "\n",
      " My_VineNet\\non aug\\testing\\images\\Block_5E1_Row_1_Middle_343.png\n",
      "\n",
      " My_VineNet\\non aug\\testing\\images\\Block_5E1_Row_1_Middle_367.png\n",
      "\n",
      " My_VineNet\\non aug\\testing\\images\\Block_5E1_Row_1_Middle_3863.png\n",
      "\n",
      " My_VineNet\\non aug\\testing\\images\\Block_5E1_Row_1_Middle_3895.png\n",
      "\n",
      " My_VineNet\\non aug\\testing\\images\\Block_5E1_Row_1_Middle_3983.png\n",
      "\n",
      " My_VineNet\\non aug\\testing\\images\\Block_5E1_Row_1_Middle_4007.png\n",
      "\n",
      " My_VineNet\\non aug\\testing\\images\\Block_5E1_Row_1_Middle_4047.png\n",
      "\n",
      " My_VineNet\\non aug\\testing\\images\\Block_5E1_Row_1_Middle_423.png\n",
      "\n",
      " My_VineNet\\non aug\\testing\\images\\Block_5E1_Row_1_Middle_463.png\n",
      "\n",
      " My_VineNet\\non aug\\testing\\images\\Block_5E1_Row_1_Middle_607.png\n",
      "\n",
      " My_VineNet\\non aug\\testing\\images\\Block_5E1_Row_1_Middle_639.png\n",
      "\n",
      " My_VineNet\\non aug\\testing\\images\\Block_5E1_Row_1_Middle_799.png\n",
      "\n",
      " My_VineNet\\non aug\\testing\\images\\Block_5E1_Row_1_Middle_831.png\n",
      "\n",
      " My_VineNet\\non aug\\testing\\images\\Block_5E1_Row_1_Middle_903.png\n",
      "\n",
      " My_VineNet\\non aug\\testing\\images\\Block_5E1_Row_1_Middle_951.png\n",
      "\n",
      " My_VineNet\\non aug\\testing\\images\\Block_5E1_Row_1_Middle_991.png\n"
     ]
    }
   ],
   "source": [
    "test_x[0]\n",
    "name = test_x[0].split(\"\\\\\")[-1]\n",
    "for i in test_x:\n",
    "    print(\"\\n\", i)"
   ]
  },
  {
   "cell_type": "code",
   "execution_count": 25,
   "metadata": {},
   "outputs": [
    {
     "name": "stderr",
     "output_type": "stream",
     "text": [
      "  0%|          | 0/179 [00:00<?, ?it/s]"
     ]
    },
    {
     "name": "stdout",
     "output_type": "stream",
     "text": [
      "1/1 [==============================] - 9s 9s/step\n"
     ]
    },
    {
     "name": "stderr",
     "output_type": "stream",
     "text": [
      "  1%|          | 1/179 [00:09<28:11,  9.50s/it]"
     ]
    },
    {
     "name": "stdout",
     "output_type": "stream",
     "text": [
      "1/1 [==============================] - 9s 9s/step\n"
     ]
    },
    {
     "name": "stderr",
     "output_type": "stream",
     "text": [
      "  1%|          | 2/179 [00:18<26:51,  9.10s/it]"
     ]
    },
    {
     "name": "stdout",
     "output_type": "stream",
     "text": [
      "1/1 [==============================] - 9s 9s/step\n"
     ]
    },
    {
     "name": "stderr",
     "output_type": "stream",
     "text": [
      "  2%|▏         | 3/179 [00:27<26:18,  8.97s/it]"
     ]
    },
    {
     "name": "stdout",
     "output_type": "stream",
     "text": [
      "1/1 [==============================] - 9s 9s/step\n"
     ]
    },
    {
     "name": "stderr",
     "output_type": "stream",
     "text": [
      "  2%|▏         | 4/179 [00:36<26:15,  9.01s/it]"
     ]
    },
    {
     "name": "stdout",
     "output_type": "stream",
     "text": [
      "1/1 [==============================] - 9s 9s/step\n"
     ]
    },
    {
     "name": "stderr",
     "output_type": "stream",
     "text": [
      "  3%|▎         | 5/179 [00:44<25:53,  8.93s/it]"
     ]
    },
    {
     "name": "stdout",
     "output_type": "stream",
     "text": [
      "1/1 [==============================] - 9s 9s/step\n"
     ]
    },
    {
     "name": "stderr",
     "output_type": "stream",
     "text": [
      "  3%|▎         | 6/179 [00:54<26:05,  9.05s/it]"
     ]
    },
    {
     "name": "stdout",
     "output_type": "stream",
     "text": [
      "1/1 [==============================] - 9s 9s/step\n"
     ]
    },
    {
     "name": "stderr",
     "output_type": "stream",
     "text": [
      "  4%|▍         | 7/179 [01:03<25:56,  9.05s/it]"
     ]
    },
    {
     "name": "stdout",
     "output_type": "stream",
     "text": [
      "1/1 [==============================] - 9s 9s/step\n"
     ]
    },
    {
     "name": "stderr",
     "output_type": "stream",
     "text": [
      "  4%|▍         | 8/179 [01:12<25:45,  9.04s/it]"
     ]
    },
    {
     "name": "stdout",
     "output_type": "stream",
     "text": [
      "1/1 [==============================] - 9s 9s/step\n"
     ]
    },
    {
     "name": "stderr",
     "output_type": "stream",
     "text": [
      "  5%|▌         | 9/179 [01:21<25:38,  9.05s/it]"
     ]
    },
    {
     "name": "stdout",
     "output_type": "stream",
     "text": [
      "1/1 [==============================] - 9s 9s/step\n"
     ]
    },
    {
     "name": "stderr",
     "output_type": "stream",
     "text": [
      "  6%|▌         | 10/179 [01:30<25:39,  9.11s/it]"
     ]
    },
    {
     "name": "stdout",
     "output_type": "stream",
     "text": [
      "1/1 [==============================] - 9s 9s/step\n"
     ]
    },
    {
     "name": "stderr",
     "output_type": "stream",
     "text": [
      "  6%|▌         | 11/179 [01:40<25:42,  9.18s/it]"
     ]
    },
    {
     "name": "stdout",
     "output_type": "stream",
     "text": [
      "1/1 [==============================] - 9s 9s/step\n"
     ]
    },
    {
     "name": "stderr",
     "output_type": "stream",
     "text": [
      "  7%|▋         | 12/179 [01:49<25:50,  9.28s/it]"
     ]
    },
    {
     "name": "stdout",
     "output_type": "stream",
     "text": [
      "1/1 [==============================] - 9s 9s/step\n"
     ]
    },
    {
     "name": "stderr",
     "output_type": "stream",
     "text": [
      "  7%|▋         | 13/179 [01:59<25:55,  9.37s/it]"
     ]
    },
    {
     "name": "stdout",
     "output_type": "stream",
     "text": [
      "1/1 [==============================] - 10s 10s/step\n"
     ]
    },
    {
     "name": "stderr",
     "output_type": "stream",
     "text": [
      "  8%|▊         | 14/179 [02:08<26:11,  9.53s/it]"
     ]
    },
    {
     "name": "stdout",
     "output_type": "stream",
     "text": [
      "1/1 [==============================] - 10s 10s/step\n"
     ]
    },
    {
     "name": "stderr",
     "output_type": "stream",
     "text": [
      "  8%|▊         | 15/179 [02:19<26:40,  9.76s/it]"
     ]
    },
    {
     "name": "stdout",
     "output_type": "stream",
     "text": [
      "1/1 [==============================] - 11s 11s/step\n"
     ]
    },
    {
     "name": "stderr",
     "output_type": "stream",
     "text": [
      "  9%|▉         | 16/179 [02:29<27:17, 10.04s/it]"
     ]
    },
    {
     "name": "stdout",
     "output_type": "stream",
     "text": [
      "1/1 [==============================] - 11s 11s/step\n"
     ]
    },
    {
     "name": "stderr",
     "output_type": "stream",
     "text": [
      "  9%|▉         | 17/179 [02:41<28:08, 10.42s/it]"
     ]
    },
    {
     "name": "stdout",
     "output_type": "stream",
     "text": [
      "1/1 [==============================] - 12s 12s/step\n"
     ]
    },
    {
     "name": "stderr",
     "output_type": "stream",
     "text": [
      " 10%|█         | 18/179 [02:53<29:09, 10.87s/it]"
     ]
    },
    {
     "name": "stdout",
     "output_type": "stream",
     "text": [
      "1/1 [==============================] - 12s 12s/step\n"
     ]
    },
    {
     "name": "stderr",
     "output_type": "stream",
     "text": [
      " 11%|█         | 19/179 [03:05<30:12, 11.33s/it]"
     ]
    },
    {
     "name": "stdout",
     "output_type": "stream",
     "text": [
      "1/1 [==============================] - 13s 13s/step\n"
     ]
    },
    {
     "name": "stderr",
     "output_type": "stream",
     "text": [
      " 11%|█         | 20/179 [03:18<31:22, 11.84s/it]"
     ]
    },
    {
     "name": "stdout",
     "output_type": "stream",
     "text": [
      "1/1 [==============================] - 13s 13s/step\n"
     ]
    },
    {
     "name": "stderr",
     "output_type": "stream",
     "text": [
      " 12%|█▏        | 21/179 [03:31<32:22, 12.29s/it]"
     ]
    },
    {
     "name": "stdout",
     "output_type": "stream",
     "text": [
      "1/1 [==============================] - 14s 14s/step\n"
     ]
    },
    {
     "name": "stderr",
     "output_type": "stream",
     "text": [
      " 12%|█▏        | 22/179 [03:45<33:16, 12.71s/it]"
     ]
    },
    {
     "name": "stdout",
     "output_type": "stream",
     "text": [
      "1/1 [==============================] - 13s 13s/step\n"
     ]
    },
    {
     "name": "stderr",
     "output_type": "stream",
     "text": [
      " 13%|█▎        | 23/179 [03:59<33:45, 12.98s/it]"
     ]
    },
    {
     "name": "stdout",
     "output_type": "stream",
     "text": [
      "1/1 [==============================] - 13s 13s/step\n"
     ]
    },
    {
     "name": "stderr",
     "output_type": "stream",
     "text": [
      " 13%|█▎        | 24/179 [04:12<33:52, 13.11s/it]"
     ]
    },
    {
     "name": "stdout",
     "output_type": "stream",
     "text": [
      "1/1 [==============================] - 13s 13s/step\n"
     ]
    },
    {
     "name": "stderr",
     "output_type": "stream",
     "text": [
      " 14%|█▍        | 25/179 [04:26<33:48, 13.17s/it]"
     ]
    },
    {
     "name": "stdout",
     "output_type": "stream",
     "text": [
      "1/1 [==============================] - 14s 14s/step\n"
     ]
    },
    {
     "name": "stderr",
     "output_type": "stream",
     "text": [
      " 15%|█▍        | 26/179 [04:39<33:59, 13.33s/it]"
     ]
    },
    {
     "name": "stdout",
     "output_type": "stream",
     "text": [
      "1/1 [==============================] - 13s 13s/step\n"
     ]
    },
    {
     "name": "stderr",
     "output_type": "stream",
     "text": [
      " 15%|█▌        | 27/179 [04:53<33:57, 13.40s/it]"
     ]
    },
    {
     "name": "stdout",
     "output_type": "stream",
     "text": [
      "1/1 [==============================] - 14s 14s/step\n"
     ]
    },
    {
     "name": "stderr",
     "output_type": "stream",
     "text": [
      " 16%|█▌        | 28/179 [05:06<33:57, 13.49s/it]"
     ]
    },
    {
     "name": "stdout",
     "output_type": "stream",
     "text": [
      "1/1 [==============================] - 14s 14s/step\n"
     ]
    },
    {
     "name": "stderr",
     "output_type": "stream",
     "text": [
      " 16%|█▌        | 29/179 [05:20<34:01, 13.61s/it]"
     ]
    },
    {
     "name": "stdout",
     "output_type": "stream",
     "text": [
      "1/1 [==============================] - 14s 14s/step\n"
     ]
    },
    {
     "name": "stderr",
     "output_type": "stream",
     "text": [
      " 17%|█▋        | 30/179 [05:34<33:53, 13.65s/it]"
     ]
    },
    {
     "name": "stdout",
     "output_type": "stream",
     "text": [
      "1/1 [==============================] - 13s 13s/step\n"
     ]
    },
    {
     "name": "stderr",
     "output_type": "stream",
     "text": [
      " 17%|█▋        | 31/179 [05:48<33:39, 13.64s/it]"
     ]
    },
    {
     "name": "stdout",
     "output_type": "stream",
     "text": [
      "1/1 [==============================] - 14s 14s/step\n"
     ]
    },
    {
     "name": "stderr",
     "output_type": "stream",
     "text": [
      " 18%|█▊        | 32/179 [06:01<33:26, 13.65s/it]"
     ]
    },
    {
     "name": "stdout",
     "output_type": "stream",
     "text": [
      "1/1 [==============================] - 14s 14s/step\n"
     ]
    },
    {
     "name": "stderr",
     "output_type": "stream",
     "text": [
      " 18%|█▊        | 33/179 [06:15<33:17, 13.68s/it]"
     ]
    },
    {
     "name": "stdout",
     "output_type": "stream",
     "text": [
      "1/1 [==============================] - 14s 14s/step\n"
     ]
    },
    {
     "name": "stderr",
     "output_type": "stream",
     "text": [
      " 19%|█▉        | 34/179 [06:29<33:05, 13.69s/it]"
     ]
    },
    {
     "name": "stdout",
     "output_type": "stream",
     "text": [
      "1/1 [==============================] - 14s 14s/step\n"
     ]
    },
    {
     "name": "stderr",
     "output_type": "stream",
     "text": [
      " 20%|█▉        | 35/179 [06:43<32:56, 13.73s/it]"
     ]
    },
    {
     "name": "stdout",
     "output_type": "stream",
     "text": [
      "1/1 [==============================] - 14s 14s/step\n"
     ]
    },
    {
     "name": "stderr",
     "output_type": "stream",
     "text": [
      " 20%|██        | 36/179 [06:57<32:47, 13.76s/it]"
     ]
    },
    {
     "name": "stdout",
     "output_type": "stream",
     "text": [
      "1/1 [==============================] - 14s 14s/step\n"
     ]
    },
    {
     "name": "stderr",
     "output_type": "stream",
     "text": [
      " 21%|██        | 37/179 [07:10<32:32, 13.75s/it]"
     ]
    },
    {
     "name": "stdout",
     "output_type": "stream",
     "text": [
      "1/1 [==============================] - 14s 14s/step\n"
     ]
    },
    {
     "name": "stderr",
     "output_type": "stream",
     "text": [
      " 21%|██        | 38/179 [07:24<32:19, 13.76s/it]"
     ]
    },
    {
     "name": "stdout",
     "output_type": "stream",
     "text": [
      "1/1 [==============================] - 14s 14s/step\n"
     ]
    },
    {
     "name": "stderr",
     "output_type": "stream",
     "text": [
      " 22%|██▏       | 39/179 [07:38<32:09, 13.78s/it]"
     ]
    },
    {
     "name": "stdout",
     "output_type": "stream",
     "text": [
      "1/1 [==============================] - 14s 14s/step\n"
     ]
    },
    {
     "name": "stderr",
     "output_type": "stream",
     "text": [
      " 22%|██▏       | 40/179 [07:52<31:53, 13.76s/it]"
     ]
    },
    {
     "name": "stdout",
     "output_type": "stream",
     "text": [
      "1/1 [==============================] - 14s 14s/step\n"
     ]
    },
    {
     "name": "stderr",
     "output_type": "stream",
     "text": [
      " 23%|██▎       | 41/179 [08:06<31:49, 13.84s/it]"
     ]
    },
    {
     "name": "stdout",
     "output_type": "stream",
     "text": [
      "1/1 [==============================] - 14s 14s/step\n"
     ]
    },
    {
     "name": "stderr",
     "output_type": "stream",
     "text": [
      " 23%|██▎       | 42/179 [08:19<31:37, 13.85s/it]"
     ]
    },
    {
     "name": "stdout",
     "output_type": "stream",
     "text": [
      "1/1 [==============================] - 14s 14s/step\n"
     ]
    },
    {
     "name": "stderr",
     "output_type": "stream",
     "text": [
      " 24%|██▍       | 43/179 [08:33<31:20, 13.83s/it]"
     ]
    },
    {
     "name": "stdout",
     "output_type": "stream",
     "text": [
      "1/1 [==============================] - 14s 14s/step\n"
     ]
    },
    {
     "name": "stderr",
     "output_type": "stream",
     "text": [
      " 25%|██▍       | 44/179 [08:47<31:06, 13.83s/it]"
     ]
    },
    {
     "name": "stdout",
     "output_type": "stream",
     "text": [
      "1/1 [==============================] - 14s 14s/step\n"
     ]
    },
    {
     "name": "stderr",
     "output_type": "stream",
     "text": [
      " 25%|██▌       | 45/179 [09:01<30:52, 13.83s/it]"
     ]
    },
    {
     "name": "stdout",
     "output_type": "stream",
     "text": [
      "1/1 [==============================] - 14s 14s/step\n"
     ]
    },
    {
     "name": "stderr",
     "output_type": "stream",
     "text": [
      " 26%|██▌       | 46/179 [09:15<30:32, 13.78s/it]"
     ]
    },
    {
     "name": "stdout",
     "output_type": "stream",
     "text": [
      "1/1 [==============================] - 14s 14s/step\n"
     ]
    },
    {
     "name": "stderr",
     "output_type": "stream",
     "text": [
      " 26%|██▋       | 47/179 [09:28<30:21, 13.80s/it]"
     ]
    },
    {
     "name": "stdout",
     "output_type": "stream",
     "text": [
      "1/1 [==============================] - 13s 13s/step\n"
     ]
    },
    {
     "name": "stderr",
     "output_type": "stream",
     "text": [
      " 27%|██▋       | 48/179 [09:42<30:02, 13.76s/it]"
     ]
    },
    {
     "name": "stdout",
     "output_type": "stream",
     "text": [
      "1/1 [==============================] - 13s 13s/step\n"
     ]
    },
    {
     "name": "stderr",
     "output_type": "stream",
     "text": [
      " 27%|██▋       | 49/179 [09:56<29:39, 13.69s/it]"
     ]
    },
    {
     "name": "stdout",
     "output_type": "stream",
     "text": [
      "1/1 [==============================] - 13s 13s/step\n"
     ]
    },
    {
     "name": "stderr",
     "output_type": "stream",
     "text": [
      " 28%|██▊       | 50/179 [10:09<29:22, 13.66s/it]"
     ]
    },
    {
     "name": "stdout",
     "output_type": "stream",
     "text": [
      "1/1 [==============================] - 14s 14s/step\n"
     ]
    },
    {
     "name": "stderr",
     "output_type": "stream",
     "text": [
      " 28%|██▊       | 51/179 [10:23<29:06, 13.65s/it]"
     ]
    },
    {
     "name": "stdout",
     "output_type": "stream",
     "text": [
      "1/1 [==============================] - 13s 13s/step\n"
     ]
    },
    {
     "name": "stderr",
     "output_type": "stream",
     "text": [
      " 29%|██▉       | 52/179 [10:36<28:49, 13.61s/it]"
     ]
    },
    {
     "name": "stdout",
     "output_type": "stream",
     "text": [
      "1/1 [==============================] - 13s 13s/step\n"
     ]
    },
    {
     "name": "stderr",
     "output_type": "stream",
     "text": [
      " 30%|██▉       | 53/179 [10:50<28:34, 13.60s/it]"
     ]
    },
    {
     "name": "stdout",
     "output_type": "stream",
     "text": [
      "1/1 [==============================] - 14s 14s/step\n"
     ]
    },
    {
     "name": "stderr",
     "output_type": "stream",
     "text": [
      " 30%|███       | 54/179 [11:04<28:22, 13.62s/it]"
     ]
    },
    {
     "name": "stdout",
     "output_type": "stream",
     "text": [
      "1/1 [==============================] - 14s 14s/step\n"
     ]
    },
    {
     "name": "stderr",
     "output_type": "stream",
     "text": [
      " 31%|███       | 55/179 [11:17<28:11, 13.64s/it]"
     ]
    },
    {
     "name": "stdout",
     "output_type": "stream",
     "text": [
      "1/1 [==============================] - 14s 14s/step\n"
     ]
    },
    {
     "name": "stderr",
     "output_type": "stream",
     "text": [
      " 31%|███▏      | 56/179 [11:31<28:02, 13.68s/it]"
     ]
    },
    {
     "name": "stdout",
     "output_type": "stream",
     "text": [
      "1/1 [==============================] - 14s 14s/step\n"
     ]
    },
    {
     "name": "stderr",
     "output_type": "stream",
     "text": [
      " 32%|███▏      | 57/179 [11:45<27:54, 13.73s/it]"
     ]
    },
    {
     "name": "stdout",
     "output_type": "stream",
     "text": [
      "1/1 [==============================] - 14s 14s/step\n"
     ]
    },
    {
     "name": "stderr",
     "output_type": "stream",
     "text": [
      " 32%|███▏      | 58/179 [11:59<27:56, 13.85s/it]"
     ]
    },
    {
     "name": "stdout",
     "output_type": "stream",
     "text": [
      "1/1 [==============================] - 14s 14s/step\n"
     ]
    },
    {
     "name": "stderr",
     "output_type": "stream",
     "text": [
      " 33%|███▎      | 59/179 [12:13<27:37, 13.81s/it]"
     ]
    },
    {
     "name": "stdout",
     "output_type": "stream",
     "text": [
      "1/1 [==============================] - 14s 14s/step\n"
     ]
    },
    {
     "name": "stderr",
     "output_type": "stream",
     "text": [
      " 34%|███▎      | 60/179 [12:26<27:21, 13.79s/it]"
     ]
    },
    {
     "name": "stdout",
     "output_type": "stream",
     "text": [
      "1/1 [==============================] - 14s 14s/step\n"
     ]
    },
    {
     "name": "stderr",
     "output_type": "stream",
     "text": [
      " 34%|███▍      | 61/179 [12:40<27:08, 13.80s/it]"
     ]
    },
    {
     "name": "stdout",
     "output_type": "stream",
     "text": [
      "1/1 [==============================] - 14s 14s/step\n"
     ]
    },
    {
     "name": "stderr",
     "output_type": "stream",
     "text": [
      " 35%|███▍      | 62/179 [12:54<26:50, 13.76s/it]"
     ]
    },
    {
     "name": "stdout",
     "output_type": "stream",
     "text": [
      "1/1 [==============================] - 14s 14s/step\n"
     ]
    },
    {
     "name": "stderr",
     "output_type": "stream",
     "text": [
      " 35%|███▌      | 63/179 [13:08<26:37, 13.77s/it]"
     ]
    },
    {
     "name": "stdout",
     "output_type": "stream",
     "text": [
      "1/1 [==============================] - 14s 14s/step\n"
     ]
    },
    {
     "name": "stderr",
     "output_type": "stream",
     "text": [
      " 36%|███▌      | 64/179 [13:22<26:23, 13.77s/it]"
     ]
    },
    {
     "name": "stdout",
     "output_type": "stream",
     "text": [
      "1/1 [==============================] - 14s 14s/step\n"
     ]
    },
    {
     "name": "stderr",
     "output_type": "stream",
     "text": [
      " 36%|███▋      | 65/179 [13:35<26:13, 13.80s/it]"
     ]
    },
    {
     "name": "stdout",
     "output_type": "stream",
     "text": [
      "1/1 [==============================] - 14s 14s/step\n"
     ]
    },
    {
     "name": "stderr",
     "output_type": "stream",
     "text": [
      " 37%|███▋      | 66/179 [13:49<25:58, 13.79s/it]"
     ]
    },
    {
     "name": "stdout",
     "output_type": "stream",
     "text": [
      "1/1 [==============================] - 14s 14s/step\n"
     ]
    },
    {
     "name": "stderr",
     "output_type": "stream",
     "text": [
      " 37%|███▋      | 67/179 [14:03<25:38, 13.74s/it]"
     ]
    },
    {
     "name": "stdout",
     "output_type": "stream",
     "text": [
      "1/1 [==============================] - 14s 14s/step\n"
     ]
    },
    {
     "name": "stderr",
     "output_type": "stream",
     "text": [
      " 38%|███▊      | 68/179 [14:16<25:24, 13.73s/it]"
     ]
    },
    {
     "name": "stdout",
     "output_type": "stream",
     "text": [
      "1/1 [==============================] - 13s 13s/step\n"
     ]
    },
    {
     "name": "stderr",
     "output_type": "stream",
     "text": [
      " 39%|███▊      | 69/179 [14:30<25:06, 13.69s/it]"
     ]
    },
    {
     "name": "stdout",
     "output_type": "stream",
     "text": [
      "1/1 [==============================] - 13s 13s/step\n"
     ]
    },
    {
     "name": "stderr",
     "output_type": "stream",
     "text": [
      " 39%|███▉      | 70/179 [14:44<24:47, 13.65s/it]"
     ]
    },
    {
     "name": "stdout",
     "output_type": "stream",
     "text": [
      "1/1 [==============================] - 13s 13s/step\n"
     ]
    },
    {
     "name": "stderr",
     "output_type": "stream",
     "text": [
      " 40%|███▉      | 71/179 [14:57<24:29, 13.61s/it]"
     ]
    },
    {
     "name": "stdout",
     "output_type": "stream",
     "text": [
      "1/1 [==============================] - 14s 14s/step\n"
     ]
    },
    {
     "name": "stderr",
     "output_type": "stream",
     "text": [
      " 40%|████      | 72/179 [15:11<24:17, 13.62s/it]"
     ]
    },
    {
     "name": "stdout",
     "output_type": "stream",
     "text": [
      "1/1 [==============================] - 13s 13s/step\n"
     ]
    },
    {
     "name": "stderr",
     "output_type": "stream",
     "text": [
      " 41%|████      | 73/179 [15:24<24:02, 13.61s/it]"
     ]
    },
    {
     "name": "stdout",
     "output_type": "stream",
     "text": [
      "1/1 [==============================] - 13s 13s/step\n"
     ]
    },
    {
     "name": "stderr",
     "output_type": "stream",
     "text": [
      " 41%|████▏     | 74/179 [15:38<23:50, 13.63s/it]"
     ]
    },
    {
     "name": "stdout",
     "output_type": "stream",
     "text": [
      "1/1 [==============================] - 14s 14s/step\n"
     ]
    },
    {
     "name": "stderr",
     "output_type": "stream",
     "text": [
      " 42%|████▏     | 75/179 [15:52<23:39, 13.65s/it]"
     ]
    },
    {
     "name": "stdout",
     "output_type": "stream",
     "text": [
      "1/1 [==============================] - 14s 14s/step\n"
     ]
    },
    {
     "name": "stderr",
     "output_type": "stream",
     "text": [
      " 42%|████▏     | 76/179 [16:05<23:25, 13.65s/it]"
     ]
    },
    {
     "name": "stdout",
     "output_type": "stream",
     "text": [
      "1/1 [==============================] - 13s 13s/step\n"
     ]
    },
    {
     "name": "stderr",
     "output_type": "stream",
     "text": [
      " 43%|████▎     | 77/179 [16:19<23:11, 13.64s/it]"
     ]
    },
    {
     "name": "stdout",
     "output_type": "stream",
     "text": [
      "1/1 [==============================] - 13s 13s/step\n"
     ]
    },
    {
     "name": "stderr",
     "output_type": "stream",
     "text": [
      " 44%|████▎     | 78/179 [16:33<22:55, 13.62s/it]"
     ]
    },
    {
     "name": "stdout",
     "output_type": "stream",
     "text": [
      "1/1 [==============================] - 14s 14s/step\n"
     ]
    },
    {
     "name": "stderr",
     "output_type": "stream",
     "text": [
      " 44%|████▍     | 79/179 [16:46<22:47, 13.67s/it]"
     ]
    },
    {
     "name": "stdout",
     "output_type": "stream",
     "text": [
      "1/1 [==============================] - 14s 14s/step\n"
     ]
    },
    {
     "name": "stderr",
     "output_type": "stream",
     "text": [
      " 45%|████▍     | 80/179 [17:00<22:37, 13.71s/it]"
     ]
    },
    {
     "name": "stdout",
     "output_type": "stream",
     "text": [
      "1/1 [==============================] - 14s 14s/step\n"
     ]
    },
    {
     "name": "stderr",
     "output_type": "stream",
     "text": [
      " 45%|████▌     | 81/179 [17:14<22:24, 13.72s/it]"
     ]
    },
    {
     "name": "stdout",
     "output_type": "stream",
     "text": [
      "1/1 [==============================] - 14s 14s/step\n"
     ]
    },
    {
     "name": "stderr",
     "output_type": "stream",
     "text": [
      " 46%|████▌     | 82/179 [17:28<22:14, 13.76s/it]"
     ]
    },
    {
     "name": "stdout",
     "output_type": "stream",
     "text": [
      "1/1 [==============================] - 14s 14s/step\n"
     ]
    },
    {
     "name": "stderr",
     "output_type": "stream",
     "text": [
      " 46%|████▋     | 83/179 [17:42<22:00, 13.76s/it]"
     ]
    },
    {
     "name": "stdout",
     "output_type": "stream",
     "text": [
      "1/1 [==============================] - 14s 14s/step\n"
     ]
    },
    {
     "name": "stderr",
     "output_type": "stream",
     "text": [
      " 47%|████▋     | 84/179 [17:55<21:45, 13.74s/it]"
     ]
    },
    {
     "name": "stdout",
     "output_type": "stream",
     "text": [
      "1/1 [==============================] - 14s 14s/step\n"
     ]
    },
    {
     "name": "stderr",
     "output_type": "stream",
     "text": [
      " 47%|████▋     | 85/179 [18:09<21:35, 13.78s/it]"
     ]
    },
    {
     "name": "stdout",
     "output_type": "stream",
     "text": [
      "1/1 [==============================] - 14s 14s/step\n"
     ]
    },
    {
     "name": "stderr",
     "output_type": "stream",
     "text": [
      " 48%|████▊     | 86/179 [18:23<21:23, 13.80s/it]"
     ]
    },
    {
     "name": "stdout",
     "output_type": "stream",
     "text": [
      "1/1 [==============================] - 14s 14s/step\n"
     ]
    },
    {
     "name": "stderr",
     "output_type": "stream",
     "text": [
      " 49%|████▊     | 87/179 [18:37<21:08, 13.79s/it]"
     ]
    },
    {
     "name": "stdout",
     "output_type": "stream",
     "text": [
      "1/1 [==============================] - 14s 14s/step\n"
     ]
    },
    {
     "name": "stderr",
     "output_type": "stream",
     "text": [
      " 49%|████▉     | 88/179 [18:50<20:54, 13.78s/it]"
     ]
    },
    {
     "name": "stdout",
     "output_type": "stream",
     "text": [
      "1/1 [==============================] - 14s 14s/step\n"
     ]
    },
    {
     "name": "stderr",
     "output_type": "stream",
     "text": [
      " 50%|████▉     | 89/179 [19:04<20:41, 13.79s/it]"
     ]
    },
    {
     "name": "stdout",
     "output_type": "stream",
     "text": [
      "1/1 [==============================] - 14s 14s/step\n"
     ]
    },
    {
     "name": "stderr",
     "output_type": "stream",
     "text": [
      " 50%|█████     | 90/179 [19:18<20:27, 13.80s/it]"
     ]
    },
    {
     "name": "stdout",
     "output_type": "stream",
     "text": [
      "1/1 [==============================] - 14s 14s/step\n"
     ]
    },
    {
     "name": "stderr",
     "output_type": "stream",
     "text": [
      " 51%|█████     | 91/179 [19:32<20:15, 13.81s/it]"
     ]
    },
    {
     "name": "stdout",
     "output_type": "stream",
     "text": [
      "1/1 [==============================] - 14s 14s/step\n"
     ]
    },
    {
     "name": "stderr",
     "output_type": "stream",
     "text": [
      " 51%|█████▏    | 92/179 [19:46<19:59, 13.79s/it]"
     ]
    },
    {
     "name": "stdout",
     "output_type": "stream",
     "text": [
      "1/1 [==============================] - 14s 14s/step\n"
     ]
    },
    {
     "name": "stderr",
     "output_type": "stream",
     "text": [
      " 52%|█████▏    | 93/179 [19:59<19:44, 13.77s/it]"
     ]
    },
    {
     "name": "stdout",
     "output_type": "stream",
     "text": [
      "1/1 [==============================] - 14s 14s/step\n"
     ]
    },
    {
     "name": "stderr",
     "output_type": "stream",
     "text": [
      " 53%|█████▎    | 94/179 [20:13<19:31, 13.78s/it]"
     ]
    },
    {
     "name": "stdout",
     "output_type": "stream",
     "text": [
      "1/1 [==============================] - 14s 14s/step\n"
     ]
    },
    {
     "name": "stderr",
     "output_type": "stream",
     "text": [
      " 53%|█████▎    | 95/179 [20:27<19:17, 13.77s/it]"
     ]
    },
    {
     "name": "stdout",
     "output_type": "stream",
     "text": [
      "1/1 [==============================] - 14s 14s/step\n"
     ]
    },
    {
     "name": "stderr",
     "output_type": "stream",
     "text": [
      " 54%|█████▎    | 96/179 [20:41<19:07, 13.83s/it]"
     ]
    },
    {
     "name": "stdout",
     "output_type": "stream",
     "text": [
      "1/1 [==============================] - 14s 14s/step\n"
     ]
    },
    {
     "name": "stderr",
     "output_type": "stream",
     "text": [
      " 54%|█████▍    | 97/179 [20:55<18:53, 13.82s/it]"
     ]
    },
    {
     "name": "stdout",
     "output_type": "stream",
     "text": [
      "1/1 [==============================] - 14s 14s/step\n"
     ]
    },
    {
     "name": "stderr",
     "output_type": "stream",
     "text": [
      " 55%|█████▍    | 98/179 [21:09<18:41, 13.85s/it]"
     ]
    },
    {
     "name": "stdout",
     "output_type": "stream",
     "text": [
      "1/1 [==============================] - 14s 14s/step\n"
     ]
    },
    {
     "name": "stderr",
     "output_type": "stream",
     "text": [
      " 55%|█████▌    | 99/179 [21:22<18:27, 13.85s/it]"
     ]
    },
    {
     "name": "stdout",
     "output_type": "stream",
     "text": [
      "1/1 [==============================] - 14s 14s/step\n"
     ]
    },
    {
     "name": "stderr",
     "output_type": "stream",
     "text": [
      " 56%|█████▌    | 100/179 [21:36<18:13, 13.84s/it]"
     ]
    },
    {
     "name": "stdout",
     "output_type": "stream",
     "text": [
      "1/1 [==============================] - 14s 14s/step\n"
     ]
    },
    {
     "name": "stderr",
     "output_type": "stream",
     "text": [
      " 56%|█████▋    | 101/179 [21:50<18:01, 13.87s/it]"
     ]
    },
    {
     "name": "stdout",
     "output_type": "stream",
     "text": [
      "1/1 [==============================] - 14s 14s/step\n"
     ]
    },
    {
     "name": "stderr",
     "output_type": "stream",
     "text": [
      " 57%|█████▋    | 102/179 [22:04<17:48, 13.87s/it]"
     ]
    },
    {
     "name": "stdout",
     "output_type": "stream",
     "text": [
      "1/1 [==============================] - 14s 14s/step\n"
     ]
    },
    {
     "name": "stderr",
     "output_type": "stream",
     "text": [
      " 58%|█████▊    | 103/179 [22:18<17:36, 13.90s/it]"
     ]
    },
    {
     "name": "stdout",
     "output_type": "stream",
     "text": [
      "1/1 [==============================] - 14s 14s/step\n"
     ]
    },
    {
     "name": "stderr",
     "output_type": "stream",
     "text": [
      " 58%|█████▊    | 104/179 [22:32<17:22, 13.90s/it]"
     ]
    },
    {
     "name": "stdout",
     "output_type": "stream",
     "text": [
      "1/1 [==============================] - 14s 14s/step\n"
     ]
    },
    {
     "name": "stderr",
     "output_type": "stream",
     "text": [
      " 59%|█████▊    | 105/179 [22:46<17:08, 13.90s/it]"
     ]
    },
    {
     "name": "stdout",
     "output_type": "stream",
     "text": [
      "1/1 [==============================] - 14s 14s/step\n"
     ]
    },
    {
     "name": "stderr",
     "output_type": "stream",
     "text": [
      " 59%|█████▉    | 106/179 [23:00<16:53, 13.88s/it]"
     ]
    },
    {
     "name": "stdout",
     "output_type": "stream",
     "text": [
      "1/1 [==============================] - 14s 14s/step\n"
     ]
    },
    {
     "name": "stderr",
     "output_type": "stream",
     "text": [
      " 60%|█████▉    | 107/179 [23:14<16:44, 13.94s/it]"
     ]
    },
    {
     "name": "stdout",
     "output_type": "stream",
     "text": [
      "1/1 [==============================] - 14s 14s/step\n"
     ]
    },
    {
     "name": "stderr",
     "output_type": "stream",
     "text": [
      " 60%|██████    | 108/179 [23:28<16:30, 13.94s/it]"
     ]
    },
    {
     "name": "stdout",
     "output_type": "stream",
     "text": [
      "1/1 [==============================] - 15s 15s/step\n"
     ]
    },
    {
     "name": "stderr",
     "output_type": "stream",
     "text": [
      " 61%|██████    | 109/179 [23:42<16:32, 14.18s/it]"
     ]
    },
    {
     "name": "stdout",
     "output_type": "stream",
     "text": [
      "1/1 [==============================] - 14s 14s/step\n"
     ]
    },
    {
     "name": "stderr",
     "output_type": "stream",
     "text": [
      " 61%|██████▏   | 110/179 [23:56<16:11, 14.08s/it]"
     ]
    },
    {
     "name": "stdout",
     "output_type": "stream",
     "text": [
      "1/1 [==============================] - 14s 14s/step\n"
     ]
    },
    {
     "name": "stderr",
     "output_type": "stream",
     "text": [
      " 62%|██████▏   | 111/179 [24:10<15:55, 14.06s/it]"
     ]
    },
    {
     "name": "stdout",
     "output_type": "stream",
     "text": [
      "1/1 [==============================] - 14s 14s/step\n"
     ]
    },
    {
     "name": "stderr",
     "output_type": "stream",
     "text": [
      " 63%|██████▎   | 112/179 [24:24<15:43, 14.08s/it]"
     ]
    },
    {
     "name": "stdout",
     "output_type": "stream",
     "text": [
      "1/1 [==============================] - 14s 14s/step\n"
     ]
    },
    {
     "name": "stderr",
     "output_type": "stream",
     "text": [
      " 63%|██████▎   | 113/179 [24:38<15:27, 14.05s/it]"
     ]
    },
    {
     "name": "stdout",
     "output_type": "stream",
     "text": [
      "1/1 [==============================] - 14s 14s/step\n"
     ]
    },
    {
     "name": "stderr",
     "output_type": "stream",
     "text": [
      " 64%|██████▎   | 114/179 [24:52<15:10, 14.01s/it]"
     ]
    },
    {
     "name": "stdout",
     "output_type": "stream",
     "text": [
      "1/1 [==============================] - 14s 14s/step\n"
     ]
    },
    {
     "name": "stderr",
     "output_type": "stream",
     "text": [
      " 64%|██████▍   | 115/179 [25:06<14:57, 14.02s/it]"
     ]
    },
    {
     "name": "stdout",
     "output_type": "stream",
     "text": [
      "1/1 [==============================] - 14s 14s/step\n"
     ]
    },
    {
     "name": "stderr",
     "output_type": "stream",
     "text": [
      " 65%|██████▍   | 116/179 [25:20<14:42, 14.01s/it]"
     ]
    },
    {
     "name": "stdout",
     "output_type": "stream",
     "text": [
      "1/1 [==============================] - 14s 14s/step\n"
     ]
    },
    {
     "name": "stderr",
     "output_type": "stream",
     "text": [
      " 65%|██████▌   | 117/179 [25:34<14:27, 13.99s/it]"
     ]
    },
    {
     "name": "stdout",
     "output_type": "stream",
     "text": [
      "1/1 [==============================] - 14s 14s/step\n"
     ]
    },
    {
     "name": "stderr",
     "output_type": "stream",
     "text": [
      " 66%|██████▌   | 118/179 [25:48<14:14, 14.01s/it]"
     ]
    },
    {
     "name": "stdout",
     "output_type": "stream",
     "text": [
      "1/1 [==============================] - 14s 14s/step\n"
     ]
    },
    {
     "name": "stderr",
     "output_type": "stream",
     "text": [
      " 66%|██████▋   | 119/179 [26:02<13:59, 13.99s/it]"
     ]
    },
    {
     "name": "stdout",
     "output_type": "stream",
     "text": [
      "1/1 [==============================] - 14s 14s/step\n"
     ]
    },
    {
     "name": "stderr",
     "output_type": "stream",
     "text": [
      " 67%|██████▋   | 120/179 [26:17<13:52, 14.11s/it]"
     ]
    },
    {
     "name": "stdout",
     "output_type": "stream",
     "text": [
      "1/1 [==============================] - 14s 14s/step\n"
     ]
    },
    {
     "name": "stderr",
     "output_type": "stream",
     "text": [
      " 68%|██████▊   | 121/179 [26:31<13:35, 14.06s/it]"
     ]
    },
    {
     "name": "stdout",
     "output_type": "stream",
     "text": [
      "1/1 [==============================] - 14s 14s/step\n"
     ]
    },
    {
     "name": "stderr",
     "output_type": "stream",
     "text": [
      " 68%|██████▊   | 122/179 [26:45<13:20, 14.04s/it]"
     ]
    },
    {
     "name": "stdout",
     "output_type": "stream",
     "text": [
      "1/1 [==============================] - 14s 14s/step\n"
     ]
    },
    {
     "name": "stderr",
     "output_type": "stream",
     "text": [
      " 69%|██████▊   | 123/179 [26:59<13:04, 14.00s/it]"
     ]
    },
    {
     "name": "stdout",
     "output_type": "stream",
     "text": [
      "1/1 [==============================] - 15s 15s/step\n"
     ]
    },
    {
     "name": "stderr",
     "output_type": "stream",
     "text": [
      " 69%|██████▉   | 124/179 [27:13<13:03, 14.24s/it]"
     ]
    },
    {
     "name": "stdout",
     "output_type": "stream",
     "text": [
      "1/1 [==============================] - 14s 14s/step\n"
     ]
    },
    {
     "name": "stderr",
     "output_type": "stream",
     "text": [
      " 70%|██████▉   | 125/179 [27:27<12:44, 14.16s/it]"
     ]
    },
    {
     "name": "stdout",
     "output_type": "stream",
     "text": [
      "1/1 [==============================] - 14s 14s/step\n"
     ]
    },
    {
     "name": "stderr",
     "output_type": "stream",
     "text": [
      " 70%|███████   | 126/179 [27:41<12:28, 14.12s/it]"
     ]
    },
    {
     "name": "stdout",
     "output_type": "stream",
     "text": [
      "1/1 [==============================] - 14s 14s/step\n"
     ]
    },
    {
     "name": "stderr",
     "output_type": "stream",
     "text": [
      " 71%|███████   | 127/179 [27:56<12:14, 14.12s/it]"
     ]
    },
    {
     "name": "stdout",
     "output_type": "stream",
     "text": [
      "1/1 [==============================] - 14s 14s/step\n"
     ]
    },
    {
     "name": "stderr",
     "output_type": "stream",
     "text": [
      " 72%|███████▏  | 128/179 [28:09<11:57, 14.07s/it]"
     ]
    },
    {
     "name": "stdout",
     "output_type": "stream",
     "text": [
      "1/1 [==============================] - 14s 14s/step\n"
     ]
    },
    {
     "name": "stderr",
     "output_type": "stream",
     "text": [
      " 72%|███████▏  | 129/179 [28:23<11:40, 14.01s/it]"
     ]
    },
    {
     "name": "stdout",
     "output_type": "stream",
     "text": [
      "1/1 [==============================] - 14s 14s/step\n"
     ]
    },
    {
     "name": "stderr",
     "output_type": "stream",
     "text": [
      " 73%|███████▎  | 130/179 [28:37<11:23, 13.95s/it]"
     ]
    },
    {
     "name": "stdout",
     "output_type": "stream",
     "text": [
      "1/1 [==============================] - 14s 14s/step\n"
     ]
    },
    {
     "name": "stderr",
     "output_type": "stream",
     "text": [
      " 73%|███████▎  | 131/179 [28:51<11:08, 13.92s/it]"
     ]
    },
    {
     "name": "stdout",
     "output_type": "stream",
     "text": [
      "1/1 [==============================] - 14s 14s/step\n"
     ]
    },
    {
     "name": "stderr",
     "output_type": "stream",
     "text": [
      " 74%|███████▎  | 132/179 [29:05<10:56, 13.96s/it]"
     ]
    },
    {
     "name": "stdout",
     "output_type": "stream",
     "text": [
      "1/1 [==============================] - 14s 14s/step\n"
     ]
    },
    {
     "name": "stderr",
     "output_type": "stream",
     "text": [
      " 74%|███████▍  | 133/179 [29:19<10:41, 13.95s/it]"
     ]
    },
    {
     "name": "stdout",
     "output_type": "stream",
     "text": [
      "1/1 [==============================] - 14s 14s/step\n"
     ]
    },
    {
     "name": "stderr",
     "output_type": "stream",
     "text": [
      " 75%|███████▍  | 134/179 [29:33<10:27, 13.94s/it]"
     ]
    },
    {
     "name": "stdout",
     "output_type": "stream",
     "text": [
      "1/1 [==============================] - 14s 14s/step\n"
     ]
    },
    {
     "name": "stderr",
     "output_type": "stream",
     "text": [
      " 75%|███████▌  | 135/179 [29:47<10:12, 13.93s/it]"
     ]
    },
    {
     "name": "stdout",
     "output_type": "stream",
     "text": [
      "1/1 [==============================] - 14s 14s/step\n"
     ]
    },
    {
     "name": "stderr",
     "output_type": "stream",
     "text": [
      " 76%|███████▌  | 136/179 [30:01<09:56, 13.88s/it]"
     ]
    },
    {
     "name": "stdout",
     "output_type": "stream",
     "text": [
      "1/1 [==============================] - 14s 14s/step\n"
     ]
    },
    {
     "name": "stderr",
     "output_type": "stream",
     "text": [
      " 77%|███████▋  | 137/179 [30:14<09:42, 13.88s/it]"
     ]
    },
    {
     "name": "stdout",
     "output_type": "stream",
     "text": [
      "1/1 [==============================] - 14s 14s/step\n"
     ]
    },
    {
     "name": "stderr",
     "output_type": "stream",
     "text": [
      " 77%|███████▋  | 138/179 [30:28<09:29, 13.90s/it]"
     ]
    },
    {
     "name": "stdout",
     "output_type": "stream",
     "text": [
      "1/1 [==============================] - 14s 14s/step\n"
     ]
    },
    {
     "name": "stderr",
     "output_type": "stream",
     "text": [
      " 78%|███████▊  | 139/179 [30:42<09:14, 13.87s/it]"
     ]
    },
    {
     "name": "stdout",
     "output_type": "stream",
     "text": [
      "1/1 [==============================] - 14s 14s/step\n"
     ]
    },
    {
     "name": "stderr",
     "output_type": "stream",
     "text": [
      " 78%|███████▊  | 140/179 [30:56<09:00, 13.86s/it]"
     ]
    },
    {
     "name": "stdout",
     "output_type": "stream",
     "text": [
      "1/1 [==============================] - 14s 14s/step\n"
     ]
    },
    {
     "name": "stderr",
     "output_type": "stream",
     "text": [
      " 79%|███████▉  | 141/179 [31:10<08:48, 13.91s/it]"
     ]
    },
    {
     "name": "stdout",
     "output_type": "stream",
     "text": [
      "1/1 [==============================] - 14s 14s/step\n"
     ]
    },
    {
     "name": "stderr",
     "output_type": "stream",
     "text": [
      " 79%|███████▉  | 142/179 [31:24<08:36, 13.96s/it]"
     ]
    },
    {
     "name": "stdout",
     "output_type": "stream",
     "text": [
      "1/1 [==============================] - 14s 14s/step\n"
     ]
    },
    {
     "name": "stderr",
     "output_type": "stream",
     "text": [
      " 80%|███████▉  | 143/179 [31:38<08:22, 13.95s/it]"
     ]
    },
    {
     "name": "stdout",
     "output_type": "stream",
     "text": [
      "1/1 [==============================] - 14s 14s/step\n"
     ]
    },
    {
     "name": "stderr",
     "output_type": "stream",
     "text": [
      " 80%|████████  | 144/179 [31:52<08:06, 13.91s/it]"
     ]
    },
    {
     "name": "stdout",
     "output_type": "stream",
     "text": [
      "1/1 [==============================] - 14s 14s/step\n"
     ]
    },
    {
     "name": "stderr",
     "output_type": "stream",
     "text": [
      " 81%|████████  | 145/179 [32:06<07:53, 13.92s/it]"
     ]
    },
    {
     "name": "stdout",
     "output_type": "stream",
     "text": [
      "1/1 [==============================] - 14s 14s/step\n"
     ]
    },
    {
     "name": "stderr",
     "output_type": "stream",
     "text": [
      " 82%|████████▏ | 146/179 [32:20<07:40, 13.95s/it]"
     ]
    },
    {
     "name": "stdout",
     "output_type": "stream",
     "text": [
      "1/1 [==============================] - 14s 14s/step\n"
     ]
    },
    {
     "name": "stderr",
     "output_type": "stream",
     "text": [
      " 82%|████████▏ | 147/179 [32:34<07:30, 14.07s/it]"
     ]
    },
    {
     "name": "stdout",
     "output_type": "stream",
     "text": [
      "1/1 [==============================] - 14s 14s/step\n"
     ]
    },
    {
     "name": "stderr",
     "output_type": "stream",
     "text": [
      " 83%|████████▎ | 148/179 [32:48<07:14, 14.00s/it]"
     ]
    },
    {
     "name": "stdout",
     "output_type": "stream",
     "text": [
      "1/1 [==============================] - 14s 14s/step\n"
     ]
    },
    {
     "name": "stderr",
     "output_type": "stream",
     "text": [
      " 83%|████████▎ | 149/179 [33:02<07:01, 14.03s/it]"
     ]
    },
    {
     "name": "stdout",
     "output_type": "stream",
     "text": [
      "1/1 [==============================] - 14s 14s/step\n"
     ]
    },
    {
     "name": "stderr",
     "output_type": "stream",
     "text": [
      " 84%|████████▍ | 150/179 [33:16<06:45, 13.98s/it]"
     ]
    },
    {
     "name": "stdout",
     "output_type": "stream",
     "text": [
      "1/1 [==============================] - 14s 14s/step\n"
     ]
    },
    {
     "name": "stderr",
     "output_type": "stream",
     "text": [
      " 84%|████████▍ | 151/179 [33:30<06:31, 13.99s/it]"
     ]
    },
    {
     "name": "stdout",
     "output_type": "stream",
     "text": [
      "1/1 [==============================] - 15s 15s/step\n"
     ]
    },
    {
     "name": "stderr",
     "output_type": "stream",
     "text": [
      " 85%|████████▍ | 152/179 [33:45<06:23, 14.20s/it]"
     ]
    },
    {
     "name": "stdout",
     "output_type": "stream",
     "text": [
      "1/1 [==============================] - 14s 14s/step\n"
     ]
    },
    {
     "name": "stderr",
     "output_type": "stream",
     "text": [
      " 85%|████████▌ | 153/179 [33:59<06:07, 14.14s/it]"
     ]
    },
    {
     "name": "stdout",
     "output_type": "stream",
     "text": [
      "1/1 [==============================] - 14s 14s/step\n"
     ]
    },
    {
     "name": "stderr",
     "output_type": "stream",
     "text": [
      " 86%|████████▌ | 154/179 [34:13<05:51, 14.07s/it]"
     ]
    },
    {
     "name": "stdout",
     "output_type": "stream",
     "text": [
      "1/1 [==============================] - 14s 14s/step\n"
     ]
    },
    {
     "name": "stderr",
     "output_type": "stream",
     "text": [
      " 87%|████████▋ | 155/179 [34:27<05:36, 14.04s/it]"
     ]
    },
    {
     "name": "stdout",
     "output_type": "stream",
     "text": [
      "1/1 [==============================] - 14s 14s/step\n"
     ]
    },
    {
     "name": "stderr",
     "output_type": "stream",
     "text": [
      " 87%|████████▋ | 156/179 [34:40<05:22, 14.00s/it]"
     ]
    },
    {
     "name": "stdout",
     "output_type": "stream",
     "text": [
      "1/1 [==============================] - 14s 14s/step\n"
     ]
    },
    {
     "name": "stderr",
     "output_type": "stream",
     "text": [
      " 88%|████████▊ | 157/179 [34:54<05:08, 14.00s/it]"
     ]
    },
    {
     "name": "stdout",
     "output_type": "stream",
     "text": [
      "1/1 [==============================] - 14s 14s/step\n"
     ]
    },
    {
     "name": "stderr",
     "output_type": "stream",
     "text": [
      " 88%|████████▊ | 158/179 [35:09<04:54, 14.02s/it]"
     ]
    },
    {
     "name": "stdout",
     "output_type": "stream",
     "text": [
      "1/1 [==============================] - 15s 15s/step\n"
     ]
    },
    {
     "name": "stderr",
     "output_type": "stream",
     "text": [
      " 89%|████████▉ | 159/179 [35:24<04:47, 14.37s/it]"
     ]
    },
    {
     "name": "stdout",
     "output_type": "stream",
     "text": [
      "1/1 [==============================] - 14s 14s/step\n"
     ]
    },
    {
     "name": "stderr",
     "output_type": "stream",
     "text": [
      " 89%|████████▉ | 160/179 [35:38<04:32, 14.33s/it]"
     ]
    },
    {
     "name": "stdout",
     "output_type": "stream",
     "text": [
      "1/1 [==============================] - 14s 14s/step\n"
     ]
    },
    {
     "name": "stderr",
     "output_type": "stream",
     "text": [
      " 90%|████████▉ | 161/179 [35:52<04:16, 14.26s/it]"
     ]
    },
    {
     "name": "stdout",
     "output_type": "stream",
     "text": [
      "1/1 [==============================] - 14s 14s/step\n"
     ]
    },
    {
     "name": "stderr",
     "output_type": "stream",
     "text": [
      " 91%|█████████ | 162/179 [36:06<04:01, 14.23s/it]"
     ]
    },
    {
     "name": "stdout",
     "output_type": "stream",
     "text": [
      "1/1 [==============================] - 14s 14s/step\n"
     ]
    },
    {
     "name": "stderr",
     "output_type": "stream",
     "text": [
      " 91%|█████████ | 163/179 [36:20<03:47, 14.23s/it]"
     ]
    },
    {
     "name": "stdout",
     "output_type": "stream",
     "text": [
      "1/1 [==============================] - 14s 14s/step\n"
     ]
    },
    {
     "name": "stderr",
     "output_type": "stream",
     "text": [
      " 92%|█████████▏| 164/179 [36:34<03:32, 14.14s/it]"
     ]
    },
    {
     "name": "stdout",
     "output_type": "stream",
     "text": [
      "1/1 [==============================] - 14s 14s/step\n"
     ]
    },
    {
     "name": "stderr",
     "output_type": "stream",
     "text": [
      " 92%|█████████▏| 165/179 [36:48<03:17, 14.09s/it]"
     ]
    },
    {
     "name": "stdout",
     "output_type": "stream",
     "text": [
      "1/1 [==============================] - 14s 14s/step\n"
     ]
    },
    {
     "name": "stderr",
     "output_type": "stream",
     "text": [
      " 93%|█████████▎| 166/179 [37:02<03:02, 14.03s/it]"
     ]
    },
    {
     "name": "stdout",
     "output_type": "stream",
     "text": [
      "1/1 [==============================] - 14s 14s/step\n"
     ]
    },
    {
     "name": "stderr",
     "output_type": "stream",
     "text": [
      " 93%|█████████▎| 167/179 [37:16<02:48, 14.01s/it]"
     ]
    },
    {
     "name": "stdout",
     "output_type": "stream",
     "text": [
      "1/1 [==============================] - 14s 14s/step\n"
     ]
    },
    {
     "name": "stderr",
     "output_type": "stream",
     "text": [
      " 94%|█████████▍| 168/179 [37:30<02:34, 14.01s/it]"
     ]
    },
    {
     "name": "stdout",
     "output_type": "stream",
     "text": [
      "1/1 [==============================] - 14s 14s/step\n"
     ]
    },
    {
     "name": "stderr",
     "output_type": "stream",
     "text": [
      " 94%|█████████▍| 169/179 [37:44<02:20, 14.07s/it]"
     ]
    },
    {
     "name": "stdout",
     "output_type": "stream",
     "text": [
      "1/1 [==============================] - 14s 14s/step\n"
     ]
    },
    {
     "name": "stderr",
     "output_type": "stream",
     "text": [
      " 95%|█████████▍| 170/179 [37:58<02:06, 14.01s/it]"
     ]
    },
    {
     "name": "stdout",
     "output_type": "stream",
     "text": [
      "1/1 [==============================] - 14s 14s/step\n"
     ]
    },
    {
     "name": "stderr",
     "output_type": "stream",
     "text": [
      " 96%|█████████▌| 171/179 [38:13<01:52, 14.09s/it]"
     ]
    },
    {
     "name": "stdout",
     "output_type": "stream",
     "text": [
      "1/1 [==============================] - 14s 14s/step\n"
     ]
    },
    {
     "name": "stderr",
     "output_type": "stream",
     "text": [
      " 96%|█████████▌| 172/179 [38:27<01:38, 14.10s/it]"
     ]
    },
    {
     "name": "stdout",
     "output_type": "stream",
     "text": [
      "1/1 [==============================] - 14s 14s/step\n"
     ]
    },
    {
     "name": "stderr",
     "output_type": "stream",
     "text": [
      " 97%|█████████▋| 173/179 [38:41<01:24, 14.06s/it]"
     ]
    },
    {
     "name": "stdout",
     "output_type": "stream",
     "text": [
      "1/1 [==============================] - 14s 14s/step\n"
     ]
    },
    {
     "name": "stderr",
     "output_type": "stream",
     "text": [
      " 97%|█████████▋| 174/179 [38:55<01:10, 14.02s/it]"
     ]
    },
    {
     "name": "stdout",
     "output_type": "stream",
     "text": [
      "1/1 [==============================] - 14s 14s/step\n"
     ]
    },
    {
     "name": "stderr",
     "output_type": "stream",
     "text": [
      " 98%|█████████▊| 175/179 [39:09<00:56, 14.00s/it]"
     ]
    },
    {
     "name": "stdout",
     "output_type": "stream",
     "text": [
      "1/1 [==============================] - 14s 14s/step\n"
     ]
    },
    {
     "name": "stderr",
     "output_type": "stream",
     "text": [
      " 98%|█████████▊| 176/179 [39:23<00:42, 14.03s/it]"
     ]
    },
    {
     "name": "stdout",
     "output_type": "stream",
     "text": [
      "1/1 [==============================] - 14s 14s/step\n"
     ]
    },
    {
     "name": "stderr",
     "output_type": "stream",
     "text": [
      " 99%|█████████▉| 177/179 [39:37<00:28, 14.01s/it]"
     ]
    },
    {
     "name": "stdout",
     "output_type": "stream",
     "text": [
      "1/1 [==============================] - 14s 14s/step\n"
     ]
    },
    {
     "name": "stderr",
     "output_type": "stream",
     "text": [
      " 99%|█████████▉| 178/179 [39:50<00:13, 13.96s/it]"
     ]
    },
    {
     "name": "stdout",
     "output_type": "stream",
     "text": [
      "1/1 [==============================] - 14s 14s/step\n"
     ]
    },
    {
     "name": "stderr",
     "output_type": "stream",
     "text": [
      "100%|██████████| 179/179 [40:04<00:00, 13.44s/it]\n"
     ]
    }
   ],
   "source": [
    "time_taken = []\n",
    "\n",
    "for x in tqdm(test_x):\n",
    "    name = x.split(\"\\\\\")[-1]\n",
    "    \n",
    "    x = cv2.imread(x, cv2.IMREAD_COLOR)\n",
    "    x = x / 255.0\n",
    "    x = np.expand_dims(x, axis=0)\n",
    "\n",
    "    start_time = time.time()\n",
    "    p = model.predict(x)[0]\n",
    "    total_time = time.time() - start_time\n",
    "    time_taken.append(total_time)\n",
    "\n",
    "    p = p > 0.5\n",
    "    p = p * 128\n",
    "\n",
    "    cv2.imwrite(os.path.join(save_path, name), p)"
   ]
  },
  {
   "cell_type": "code",
   "execution_count": 14,
   "metadata": {},
   "outputs": [],
   "source": [
    "mean_time = np.mean(time_taken)\n",
    "mean_fps = 1/mean_time"
   ]
  },
  {
   "cell_type": "code",
   "execution_count": 15,
   "metadata": {},
   "outputs": [
    {
     "name": "stdout",
     "output_type": "stream",
     "text": [
      "Mean_Time:  13.11557 - Mean FPS: 0.07625\n"
     ]
    }
   ],
   "source": [
    "print(f\"Mean_Time: {mean_time: 1.5f} - Mean FPS: {mean_fps:2.5f}\")"
   ]
  },
  {
   "cell_type": "code",
   "execution_count": null,
   "metadata": {},
   "outputs": [],
   "source": []
  }
 ],
 "metadata": {
  "kernelspec": {
   "display_name": "py_torch",
   "language": "python",
   "name": "python3"
  },
  "language_info": {
   "codemirror_mode": {
    "name": "ipython",
    "version": 3
   },
   "file_extension": ".py",
   "mimetype": "text/x-python",
   "name": "python",
   "nbconvert_exporter": "python",
   "pygments_lexer": "ipython3",
   "version": "3.9.18"
  }
 },
 "nbformat": 4,
 "nbformat_minor": 2
}
